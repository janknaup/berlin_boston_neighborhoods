{
 "cells": [
  {
   "cell_type": "markdown",
   "metadata": {},
   "source": [
    "# AirBnB Data Exploration\n"
   ]
  },
  {
   "cell_type": "code",
   "execution_count": 31,
   "metadata": {},
   "outputs": [],
   "source": [
    "# import libraries\n",
    "import pandas as pd\n",
    "from pandas.plotting import register_matplotlib_converters\n",
    "register_matplotlib_converters()\n",
    "import numpy as np\n",
    "from matplotlib import pyplot as plt\n",
    "import seaborn as sns; sns.set()\n",
    "import locale; locale.setlocale(locale.LC_ALL, 'en_US.UTF-8')\n",
    "from helpers import price_parse, fit_prepare, valid_value_intbool"
   ]
  },
  {
   "cell_type": "code",
   "execution_count": 32,
   "metadata": {},
   "outputs": [],
   "source": [
    "from sklearn.linear_model import Ridge\n",
    "from sklearn.model_selection import GridSearchCV, ParameterGrid, train_test_split\n",
    "from sklearn.pipeline import Pipeline\n",
    "from sklearn.preprocessing import StandardScaler, Normalizer"
   ]
  },
  {
   "cell_type": "markdown",
   "metadata": {
    "pycharm": {
     "name": "#%% md\n"
    }
   },
   "source": [
    "## Load and Pre-Process"
   ]
  },
  {
   "cell_type": "code",
   "execution_count": 33,
   "metadata": {
    "pycharm": {
     "name": "#%%\n"
    }
   },
   "outputs": [
    {
     "name": "stderr",
     "output_type": "stream",
     "text": [
      "C:\\Users\\ruindur\\.conda\\envs\\airbnb_blog\\lib\\site-packages\\IPython\\core\\interactiveshell.py:2714: DtypeWarning: Columns (28,35,36) have mixed types. Specify dtype option on import or set low_memory=False.\n",
      "  interactivity=interactivity, compiler=compiler, result=result)\n"
     ]
    }
   ],
   "source": [
    "# read data files\n",
    "# Boston\n",
    "#b_cal = pd.read_csv('data/boston/calendar.csv', sep=',', header=0, \n",
    "#                    parse_dates=['date',], \n",
    "#                    infer_datetime_format=True,\n",
    "#                    true_values=['t'], false_values=['f'],\n",
    "#                    converters={'price': price_parse})\n",
    "b_lis = pd.read_csv('data/boston/listings.csv', sep=',', header=0, \n",
    "                    parse_dates=['last_scraped', 'host_since', 'calendar_updated', \n",
    "                                 'calendar_last_scraped', 'first_review', 'last_review'], \n",
    "                    infer_datetime_format=True,\n",
    "                    converters={'price': price_parse, 'weekly_price': price_parse, \n",
    "                                'monthly_price': price_parse, 'security_deposit': price_parse, \n",
    "                                'cleaning_fee': price_parse, 'extra_people': price_parse},\n",
    "                    true_values=['t'], false_values=['f'])\n",
    "#b_rev = pd.read_csv('data/boston/reviews.csv', sep=',', header=0, \n",
    "#                    parse_dates=['date',],  \n",
    "#                    infer_datetime_format=True,\n",
    "#                    true_values=['t'], false_values=['f'])\n",
    "#Seattle\n",
    "#s_cal = pd.read_csv('data/seattle/calendar.csv', sep=',', header=0, \n",
    "#                    parse_dates=['date',],  \n",
    "#                    infer_datetime_format=True,\n",
    "#                    true_values=['t'], false_values=['f'],\n",
    "#                    converters={'price': price_parse})\n",
    "s_lis = pd.read_csv('data/seattle/listings.csv', sep=',', header=0,\n",
    "                    parse_dates=['last_scraped', 'host_since', 'calendar_updated', \n",
    "                                 'calendar_last_scraped', 'first_review', 'last_review'],  \n",
    "                    infer_datetime_format=True,\n",
    "                    converters={'price': price_parse, 'weekly_price': price_parse, \n",
    "                                'monthly_price': price_parse, 'security_deposit': price_parse, \n",
    "                                'cleaning_fee': price_parse, 'extra_people': price_parse},\n",
    "                    true_values=['t'], false_values=['f'])\n",
    "#s_rev = pd.read_csv('data/seattle/reviews.csv', sep=',', header=0, \n",
    "#                    parse_dates=['date',],  \n",
    "#                    infer_datetime_format=True,\n",
    "#                    true_values=['t'], false_values=['f'])\n",
    "#Berlin\n",
    "#ber_cal = pd.read_csv('data/berlin/calendar_summary.csv', sep=',', header=0, \n",
    "#                    parse_dates=['date',], \n",
    "#                    infer_datetime_format=True,\n",
    "#                    true_values=['t'], false_values=['f'],\n",
    "#                    converters={'price': price_parse})\n",
    "ber_lis = pd.read_csv('data/berlin/listings_summary.csv', sep=',', header=0, \n",
    "                    parse_dates=['last_scraped', 'host_since', 'calendar_updated', \n",
    "                                 'calendar_last_scraped', 'first_review', 'last_review'], \n",
    "                    infer_datetime_format=True,\n",
    "                    converters={'price': price_parse, 'weekly_price': price_parse, \n",
    "                                'monthly_price': price_parse, 'security_deposit': price_parse, \n",
    "                                'cleaning_fee': price_parse, 'extra_people': price_parse},\n",
    "                    true_values=['t'], false_values=['f'])\n",
    "#ber_rev = pd.read_csv('data/berlin/reviews_summary.csv', sep=',', header=0, \n",
    "#                    parse_dates=['date',],  \n",
    "#                    infer_datetime_format=True,\n",
    "#                    true_values=['t'], false_values=['f'])"
   ]
  },
  {
   "cell_type": "code",
   "execution_count": 34,
   "metadata": {},
   "outputs": [],
   "source": [
    "# join tables, all-missing columns\n",
    "#calendar = pd.concat([b_cal, s_cal, ber_cal], axis=0, ignore_index=True, sort=False).dropna(how='all', axis=1)\n",
    "listings = pd.concat([b_lis.assign(**{'source': lambda x: 'Boston'}), \n",
    "                      s_lis.assign(**{'source': lambda x: 'Seattle'}),\n",
    "                      ber_lis.assign(**{'source': lambda x: 'Berlin'})], axis=0, \n",
    "                     ignore_index=True, sort=False).dropna(how='all', axis=1)\n",
    "#reviews = pd.concat([b_rev, s_rev, ber_rev], axis=0, ignore_index=True, sort=False).dropna(how='all', axis=1)"
   ]
  },
  {
   "cell_type": "code",
   "execution_count": 35,
   "metadata": {},
   "outputs": [],
   "source": [
    "# column categories\n",
    "listings_categorical = ['experiences_offered', 'host_location', 'host_response_time', \n",
    "                        'host_response_rate', 'host_acceptance_rate', 'host_neighbourhood',\n",
    "                        'neighbourhood_cleansed', 'neighbourhood_group_cleansed', 'city', \n",
    "                        'state', 'zipcode', 'market', 'source', 'smart_location', \n",
    "                        'property_type', 'cancellation_policy',\n",
    "                        'room_type', 'bed_type', 'calendar_updated', 'jurisdiction_names']\n",
    "listings_presence = []\n",
    "listings_text = ['name', 'summary', 'space', 'description', 'notes', 'neighborhood_overview', \n",
    "                 'transit', 'host_about', 'host_name', 'street', 'neighborhood']\n",
    "listings_multi_categories = ['host_verifications', 'amenities']\n",
    "listings_numeric = listings.select_dtypes('number').columns"
   ]
  },
  {
   "cell_type": "code",
   "execution_count": 36,
   "metadata": {},
   "outputs": [
    {
     "name": "stdout",
     "output_type": "stream",
     "text": [
      "8849407     1\n",
      "9866909     1\n",
      "12162808    1\n",
      "7956227     1\n",
      "8216321     1\n",
      "           ..\n",
      "26409335    1\n",
      "114763      1\n",
      "8303683     1\n",
      "18699138    1\n",
      "10749953    1\n",
      "Name: id, Length: 29955, dtype: int64\n",
      "20181107122246    22552\n",
      "20160104002432     3818\n",
      "20160906204935     3585\n",
      "Name: scrape_id, dtype: int64\n",
      "30283594     138\n",
      "25188         79\n",
      "4962900       64\n",
      "9419684       61\n",
      "12243051      58\n",
      "            ... \n",
      "148479451      1\n",
      "158606993      1\n",
      "14348964       1\n",
      "132774565      1\n",
      "10420224       1\n",
      "Name: host_id, Length: 24107, dtype: int64\n",
      "1.0       19948\n",
      "2.0        4519\n",
      "3.0        1519\n",
      "4.0         753\n",
      "5.0         459\n",
      "6.0         320\n",
      "7.0         264\n",
      "9.0         143\n",
      "8.0         138\n",
      "749.0       136\n",
      "11.0        136\n",
      "12.0        120\n",
      "19.0         96\n",
      "18.0         88\n",
      "10.0         80\n",
      "558.0        79\n",
      "34.0         67\n",
      "17.0         61\n",
      "313.0        61\n",
      "14.0         59\n",
      "363.0        58\n",
      "37.0         57\n",
      "30.0         54\n",
      "16.0         52\n",
      "15.0         51\n",
      "52.0         50\n",
      "13.0         48\n",
      "24.0         48\n",
      "48.0         46\n",
      "59.0         45\n",
      "22.0         45\n",
      "43.0         43\n",
      "169.0        39\n",
      "21.0         38\n",
      "36.0         36\n",
      "26.0         26\n",
      "0.0          25\n",
      "307.0        25\n",
      "29.0         17\n",
      "20.0         14\n",
      "122.0        13\n",
      "23.0         13\n",
      "354.0        10\n",
      "28.0          8\n",
      "163.0         4\n",
      "67.0          3\n",
      "1676.0        3\n",
      "502.0         2\n",
      "33.0          2\n",
      "84.0          2\n",
      "45.0          1\n",
      "378.0         1\n",
      "71.0          1\n",
      "118.0         1\n",
      "Name: host_listings_count, dtype: int64\n",
      "1.0       19948\n",
      "2.0        4519\n",
      "3.0        1519\n",
      "4.0         753\n",
      "5.0         459\n",
      "6.0         320\n",
      "7.0         264\n",
      "9.0         143\n",
      "8.0         138\n",
      "749.0       136\n",
      "11.0        136\n",
      "12.0        120\n",
      "19.0         96\n",
      "18.0         88\n",
      "10.0         80\n",
      "558.0        79\n",
      "34.0         67\n",
      "17.0         61\n",
      "313.0        61\n",
      "14.0         59\n",
      "363.0        58\n",
      "37.0         57\n",
      "30.0         54\n",
      "16.0         52\n",
      "15.0         51\n",
      "52.0         50\n",
      "13.0         48\n",
      "24.0         48\n",
      "48.0         46\n",
      "59.0         45\n",
      "22.0         45\n",
      "43.0         43\n",
      "169.0        39\n",
      "21.0         38\n",
      "36.0         36\n",
      "26.0         26\n",
      "0.0          25\n",
      "307.0        25\n",
      "29.0         17\n",
      "20.0         14\n",
      "122.0        13\n",
      "23.0         13\n",
      "354.0        10\n",
      "28.0          8\n",
      "163.0         4\n",
      "67.0          3\n",
      "1676.0        3\n",
      "502.0         2\n",
      "33.0          2\n",
      "84.0          2\n",
      "45.0          1\n",
      "378.0         1\n",
      "71.0          1\n",
      "118.0         1\n",
      "Name: host_total_listings_count, dtype: int64\n",
      "47.610136    1\n",
      "42.285271    1\n",
      "52.449532    1\n",
      "52.518002    1\n",
      "52.498440    1\n",
      "            ..\n",
      "52.489199    1\n",
      "52.501452    1\n",
      "52.540923    1\n",
      "47.575868    1\n",
      "52.533842    1\n",
      "Name: latitude, Length: 29955, dtype: int64\n",
      "-122.358869    1\n",
      "-122.308710    1\n",
      " 13.448335     1\n",
      "-122.313146    1\n",
      " 13.432283     1\n",
      "              ..\n",
      " 13.426325     1\n",
      " 13.413871     1\n",
      "-122.324298    1\n",
      " 13.387013     1\n",
      " 13.397971     1\n",
      "Name: longitude, Length: 29955, dtype: int64\n",
      "2     15338\n",
      "4      4651\n",
      "1      3429\n",
      "3      3313\n",
      "6      1268\n",
      "5      1130\n",
      "8       325\n",
      "7       222\n",
      "10      101\n",
      "9        59\n",
      "12       44\n",
      "16       26\n",
      "11       22\n",
      "14       17\n",
      "15        8\n",
      "13        2\n",
      "Name: accommodates, dtype: int64\n",
      "1.0    25440\n",
      "2.0     2120\n",
      "1.5     1602\n",
      "2.5      266\n",
      "0.5      142\n",
      "3.0      135\n",
      "3.5       73\n",
      "0.0       62\n",
      "4.0       22\n",
      "5.0        9\n",
      "4.5        5\n",
      "6.0        5\n",
      "8.0        4\n",
      "7.0        3\n",
      "8.5        3\n",
      "7.5        2\n",
      "Name: bathrooms, dtype: int64\n",
      "1.0     21960\n",
      "2.0      4306\n",
      "0.0      2136\n",
      "3.0      1161\n",
      "4.0       257\n",
      "5.0        74\n",
      "6.0        16\n",
      "7.0         4\n",
      "8.0         4\n",
      "10.0        1\n",
      "9.0         1\n",
      "12.0        1\n",
      "Name: bedrooms, dtype: int64\n",
      "1.0     18696\n",
      "2.0      7182\n",
      "3.0      2097\n",
      "4.0      1040\n",
      "5.0       372\n",
      "6.0       256\n",
      "7.0        84\n",
      "8.0        70\n",
      "0.0        36\n",
      "10.0       25\n",
      "9.0        21\n",
      "16.0        7\n",
      "12.0        6\n",
      "15.0        5\n",
      "11.0        4\n",
      "14.0        2\n",
      "22.0        1\n",
      "13.0        1\n",
      "Name: beds, dtype: int64\n",
      "0.0       131\n",
      "1200.0     17\n",
      "646.0      16\n",
      "753.0      14\n",
      "431.0      12\n",
      "         ... \n",
      "549.0       1\n",
      "1700.0      1\n",
      "33.0        1\n",
      "170.0       1\n",
      "12.0        1\n",
      "Name: square_feet, Length: 165, dtype: int64\n",
      "30.0      1406\n",
      "50.0      1367\n",
      "35.0      1295\n",
      "40.0      1266\n",
      "25.0      1131\n",
      "          ... \n",
      "1372.0       1\n",
      "557.0        1\n",
      "248.0        1\n",
      "900.0        1\n",
      "775.0        1\n",
      "Name: price, Length: 418, dtype: int64\n",
      "300.0     278\n",
      "350.0     256\n",
      "500.0     244\n",
      "250.0     239\n",
      "400.0     231\n",
      "         ... \n",
      "5499.0      1\n",
      "1055.0      1\n",
      "1533.0      1\n",
      "219.0       1\n",
      "773.0       1\n",
      "Name: weekly_price, Length: 652, dtype: int64\n",
      "1200.0    203\n",
      "1500.0    168\n",
      "1000.0    147\n",
      "800.0     125\n",
      "900.0     116\n",
      "         ... \n",
      "4989.0      1\n",
      "1315.0      1\n",
      "3640.0      1\n",
      "1638.0      1\n",
      "325.0       1\n",
      "Name: monthly_price, Length: 767, dtype: int64\n",
      "0.0       5319\n",
      "100.0     2363\n",
      "200.0     1886\n",
      "500.0     1275\n",
      "150.0     1135\n",
      "          ... \n",
      "1326.0       1\n",
      "2100.0       1\n",
      "780.0        1\n",
      "2600.0       1\n",
      "775.0        1\n",
      "Name: security_deposit, Length: 164, dtype: int64\n",
      "20.0     2119\n",
      "10.0     1918\n",
      "0.0      1865\n",
      "30.0     1786\n",
      "50.0     1695\n",
      "         ... \n",
      "137.0       1\n",
      "142.0       1\n",
      "131.0       1\n",
      "143.0       1\n",
      "158.0       1\n",
      "Name: cleaning_fee, Length: 160, dtype: int64\n",
      "1     22353\n",
      "2      5518\n",
      "4       929\n",
      "3       546\n",
      "6       196\n",
      "0       180\n",
      "5       117\n",
      "8        55\n",
      "7        22\n",
      "10       10\n",
      "12        9\n",
      "9         7\n",
      "16        5\n",
      "14        3\n",
      "11        2\n",
      "13        2\n",
      "15        1\n",
      "Name: guests_included, dtype: int64\n",
      "0.0      15122\n",
      "10.0      3935\n",
      "15.0      2655\n",
      "20.0      2060\n",
      "25.0      1342\n",
      "         ...  \n",
      "58.0         1\n",
      "57.0         1\n",
      "120.0        1\n",
      "47.0         1\n",
      "93.0         1\n",
      "Name: extra_people, Length: 75, dtype: int64\n",
      "1      8478\n",
      "2      8277\n",
      "3      5399\n",
      "4      1938\n",
      "5      1598\n",
      "       ... \n",
      "88        1\n",
      "106       1\n",
      "148       1\n",
      "900       1\n",
      "186       1\n",
      "Name: minimum_nights, Length: 103, dtype: int64\n",
      "1125     16092\n",
      "30        1476\n",
      "14        1208\n",
      "7         1091\n",
      "10         769\n",
      "         ...  \n",
      "86           1\n",
      "102          1\n",
      "188          1\n",
      "550          1\n",
      "99999        1\n",
      "Name: maximum_nights, Length: 231, dtype: int64\n",
      "1.0    26370\n",
      "Name: has_availability, dtype: int64\n",
      "0     16741\n",
      "30     1514\n",
      "29      786\n",
      "6       655\n",
      "1       623\n",
      "4       601\n",
      "2       575\n",
      "5       568\n",
      "3       529\n",
      "7       446\n",
      "8       430\n",
      "9       385\n",
      "27      378\n",
      "23      372\n",
      "28      364\n",
      "11      356\n",
      "10      346\n",
      "14      340\n",
      "20      340\n",
      "12      332\n",
      "25      321\n",
      "18      316\n",
      "17      312\n",
      "13      309\n",
      "15      304\n",
      "16      301\n",
      "19      290\n",
      "22      289\n",
      "21      284\n",
      "26      279\n",
      "24      269\n",
      "Name: availability_30, dtype: int64\n",
      "0     14356\n",
      "60     1321\n",
      "5       767\n",
      "59      585\n",
      "1       446\n",
      "      ...  \n",
      "42      170\n",
      "45      164\n",
      "51      162\n",
      "38      148\n",
      "41      136\n",
      "Name: availability_60, Length: 61, dtype: int64\n",
      "0     13235\n",
      "90     1204\n",
      "89      613\n",
      "35      527\n",
      "4       506\n",
      "      ...  \n",
      "20      119\n",
      "39      118\n",
      "24      117\n",
      "71      115\n",
      "26      103\n",
      "Name: availability_90, Length: 91, dtype: int64\n",
      "0      11562\n",
      "365      921\n",
      "364      326\n",
      "4        257\n",
      "310      238\n",
      "       ...  \n",
      "232        9\n",
      "239        9\n",
      "188        8\n",
      "225        8\n",
      "182        4\n",
      "Name: availability_365, Length: 366, dtype: int64\n",
      "0      5273\n",
      "1      3424\n",
      "2      2364\n",
      "3      1766\n",
      "4      1501\n",
      "       ... \n",
      "344       1\n",
      "328       1\n",
      "312       1\n",
      "275       1\n",
      "418       1\n",
      "Name: number_of_reviews, Length: 321, dtype: int64\n",
      "100.0    7452\n",
      "98.0     1720\n",
      "96.0     1698\n",
      "97.0     1656\n",
      "95.0     1538\n",
      "93.0     1467\n",
      "90.0     1308\n",
      "80.0     1117\n",
      "94.0      983\n",
      "99.0      902\n",
      "92.0      765\n",
      "91.0      627\n",
      "87.0      496\n",
      "89.0      445\n",
      "88.0      405\n",
      "85.0      215\n",
      "86.0      191\n",
      "84.0      174\n",
      "60.0      160\n",
      "83.0      131\n",
      "70.0       98\n",
      "82.0       69\n",
      "73.0       58\n",
      "75.0       52\n",
      "40.0       46\n",
      "78.0       44\n",
      "77.0       41\n",
      "76.0       39\n",
      "81.0       38\n",
      "20.0       32\n",
      "67.0       25\n",
      "79.0       23\n",
      "74.0       12\n",
      "72.0       11\n",
      "71.0       11\n",
      "50.0       10\n",
      "64.0        8\n",
      "68.0        6\n",
      "65.0        6\n",
      "69.0        5\n",
      "66.0        4\n",
      "53.0        3\n",
      "47.0        2\n",
      "57.0        2\n",
      "55.0        2\n",
      "63.0        2\n",
      "58.0        1\n",
      "56.0        1\n",
      "46.0        1\n",
      "48.0        1\n",
      "33.0        1\n",
      "62.0        1\n",
      "30.0        1\n",
      "Name: review_scores_rating, dtype: int64\n",
      "10.0    17625\n",
      "9.0      4947\n",
      "8.0      1075\n",
      "7.0       167\n",
      "6.0       153\n",
      "4.0        50\n",
      "2.0        29\n",
      "5.0        13\n",
      "3.0         1\n",
      "Name: review_scores_accuracy, dtype: int64\n",
      "10.0    14014\n",
      "9.0      6674\n",
      "8.0      2224\n",
      "7.0       542\n",
      "6.0       403\n",
      "4.0        88\n",
      "5.0        67\n",
      "2.0        53\n",
      "3.0         8\n",
      "Name: review_scores_cleanliness, dtype: int64\n",
      "10.0    19041\n",
      "9.0      3910\n",
      "8.0       765\n",
      "6.0       131\n",
      "7.0       120\n",
      "4.0        36\n",
      "2.0        31\n",
      "5.0        11\n",
      "Name: review_scores_checkin, dtype: int64\n",
      "10.0    19365\n",
      "9.0      3629\n",
      "8.0       755\n",
      "7.0       131\n",
      "6.0       117\n",
      "4.0        30\n",
      "2.0        26\n",
      "5.0        14\n",
      "3.0         1\n",
      "Name: review_scores_communication, dtype: int64\n",
      "10.0    14911\n",
      "9.0      7226\n",
      "8.0      1488\n",
      "7.0       202\n",
      "6.0       163\n",
      "4.0        34\n",
      "2.0        12\n",
      "5.0        10\n",
      "3.0         1\n",
      "Name: review_scores_location, dtype: int64\n",
      "10.0    12972\n",
      "9.0      8643\n",
      "8.0      1830\n",
      "7.0       250\n",
      "6.0       246\n",
      "4.0        52\n",
      "2.0        31\n",
      "5.0        15\n",
      "3.0         4\n",
      "Name: review_scores_value, dtype: int64\n",
      "1      21457\n",
      "2       3925\n",
      "3       1279\n",
      "4        606\n",
      "5        385\n",
      "6        311\n",
      "7        231\n",
      "136      136\n",
      "8        131\n",
      "9        127\n",
      "10       110\n",
      "11        99\n",
      "12        96\n",
      "19        95\n",
      "17        85\n",
      "79        79\n",
      "15        76\n",
      "24        72\n",
      "61        61\n",
      "58        58\n",
      "50        50\n",
      "45        45\n",
      "43        43\n",
      "14        42\n",
      "20        40\n",
      "13        39\n",
      "37        37\n",
      "18        36\n",
      "31        36\n",
      "34        34\n",
      "16        32\n",
      "30        30\n",
      "26        26\n",
      "25        25\n",
      "21        21\n",
      "Name: calculated_host_listings_count, dtype: int64\n",
      "0.03     635\n",
      "1.00     501\n",
      "0.07     427\n",
      "0.06     380\n",
      "0.08     363\n",
      "        ... \n",
      "11.36      1\n",
      "5.84       1\n",
      "8.25       1\n",
      "7.13       1\n",
      "11.01      1\n",
      "Name: reviews_per_month, Length: 882, dtype: int64\n"
     ]
    }
   ],
   "source": [
    "for col in listings_numeric:\n",
    "    print(listings[col].value_counts())"
   ]
  },
  {
   "cell_type": "code",
   "execution_count": 37,
   "metadata": {
    "pycharm": {
     "name": "#%%\n"
    }
   },
   "outputs": [],
   "source": [
    "# actual URLs are not interesting, but presence could be of value\n",
    "for col in listings.columns:\n",
    "    if 'url' in col:\n",
    "        pcol = 'has_' + col\n",
    "        listings[pcol] = listings[col].apply(valid_value_intbool, convert_dtype=True)\n",
    "        listings.drop(col, axis=1, inplace=True)\n",
    "        listings_presence.append(pcol)"
   ]
  },
  {
   "cell_type": "code",
   "execution_count": 38,
   "metadata": {
    "scrolled": false
   },
   "outputs": [
    {
     "data": {
      "text/plain": "             id       scrape_id last_scraped  \\\n25157  23474140  20181107122246   2018-11-07   \n12466   7553270  20181107122246   2018-11-07   \n29295  29096509  20181107122246   2018-11-07   \n4171    7462439  20160104002432   2016-01-04   \n18052  16066804  20181107122246   2018-11-07   \n22097  20634992  20181107122246   2018-11-07   \n11653   6605484  20181107122246   2018-11-07   \n24425  22700870  20181107122246   2018-11-07   \n27356  26651462  20181107122246   2018-11-07   \n2169   14043390  20160906204935   2016-09-07   \n\n                                                    name  \\\n25157   16m2 - Cozy room in quiet neighborhood of Berlin   \n12466                    BIG ROOM IN MITTE FOR 2 PERSONS   \n29295  Stay with a local near bars and 18 min. to centre   \n4171                 Capitol Hill Apt, Magnificent Views   \n18052  Cozy room, 20 min Alexander Platz, Prenzlauer ...   \n22097                 Cozy Room next to tempelhofer feld   \n11653                       INDUSTRIE-LOFT in Kreuzkölln   \n24425    Big, cozy and well communicated room in F'shain   \n27356         Schönes 2 Personen Loft im Prenzlauer Kiez   \n2169                    best location best price绝佳地段价格优惠   \n\n                                                 summary  \\\n25157  Nice cozy room, located in a quiet residential...   \n12466  Hey guys, I'm renting my big room in a central...   \n29295  Stay with a local Berliner with a lot of couch...   \n4171   Spacious sun porch with magnificent view of th...   \n18052  The apartment is located in a pretty good area...   \n22097  The room got a double bed, a desk for a laptop...   \n11653  Wir vermieten ausnahmsweise für einige Zeit (A...   \n24425  Very bright, cozy and modern room, well commun...   \n27356  Ich heiße Sie herzlich willkommen in meinem sc...   \n2169   My comfortable one bedroom apartment with one ...   \n\n                                                   space  \\\n25157                                                NaN   \n12466  My flat is located in the very center of Berli...   \n29295  You DON'T get any luxury here in terms of the ...   \n4171   Wood floors, big windows, new kitchen applianc...   \n18052  It's a cozy nice place to stay, only 2 min awa...   \n22097  You got a room in a small shared living aparte...   \n11653  Das Industrieloft mit insgesamt 150qm befindet...   \n24425  The room is a wide, bright and cozy double roo...   \n27356                                                NaN   \n2169                                                 NaN   \n\n                                             description  \\\n25157  Nice cozy room, located in a quiet residential...   \n12466  Hey guys, I'm renting my big room in a central...   \n29295  Stay with a local Berliner with a lot of couch...   \n4171   Spacious sun porch with magnificent view of th...   \n18052  The apartment is located in a pretty good area...   \n22097  The room got a double bed, a desk for a laptop...   \n11653  Wir vermieten ausnahmsweise für einige Zeit (A...   \n24425  Very bright, cozy and modern room, well commun...   \n27356  Ich heiße Sie herzlich willkommen in meinem sc...   \n2169   My comfortable one bedroom apartment with one ...   \n\n                                   neighborhood_overview  \\\n25157                                                NaN   \n12466                                                NaN   \n29295  It's a neighborhood that is close to the bars ...   \n4171   Capitol Hill is the place to be. The apartment...   \n18052  The house is located in a central area, 2 min'...   \n22097  Die Nachbarschaft ist mit dem direkten Anschlu...   \n11653  Kreuzkölln ist derzeit the place to be wenn ma...   \n24425  It is a very quiet and residential neighborhoo...   \n27356                                                NaN   \n2169                                                 NaN   \n\n                                                   notes  \\\n25157                                                NaN   \n12466                                                NaN   \n29295  FREE BREAKFAST will be provided. Please let me...   \n4171                Gay friendly, 420 friendly (outside)   \n18052  A nice kitty is living here as well, but she i...   \n22097  Smoking is not allowed in the apartement, but ...   \n11653  RAUCHEN: Unser Loft ist ein Nichraucherloft . ...   \n24425  The apartment is inside a big and tall buildin...   \n27356                                                NaN   \n2169                                                 NaN   \n\n                                                 transit  ...  \\\n25157                                                NaN  ...   \n12466                                                NaN  ...   \n29295  There are subways (U5), S-trains (S41 & S42 Ri...  ...   \n4171   There is plenty of street parking and bus line...  ...   \n18052  S Prenzlauer Allee (Ring Bhan) open till 1:00 ...  ...   \n22097  Öffentliche Verkehrsmittel: U Leinestr. ( U8 )...  ...   \n11653                                   U8, U7, M59, M29  ...   \n24425  SBahn Storkower Strasse station is 2 min walk ...  ...   \n27356  S Bahn Bornholmer Straße  oder S Bahn Schönhau...  ...   \n2169                                                 NaN  ...   \n\n      require_guest_phone_verification calculated_host_listings_count  \\\n25157                            False                              2   \n12466                            False                              2   \n29295                            False                              2   \n4171                             False                              1   \n18052                            False                              1   \n22097                            False                              2   \n11653                            False                              1   \n24425                            False                              1   \n27356                            False                              1   \n2169                             False                              1   \n\n      reviews_per_month   source is_business_travel_ready has_thumbnail_url  \\\n25157               NaN   Berlin                    False                 1   \n12466              0.03   Berlin                    False                 1   \n29295              4.00   Berlin                    False                 1   \n4171               0.18  Seattle                      NaN                 1   \n18052              0.21   Berlin                    False                 1   \n22097              0.23   Berlin                    False                 1   \n11653              0.19   Berlin                    False                 1   \n24425              0.72   Berlin                    False                 1   \n27356              0.54   Berlin                    False                 1   \n2169               2.26   Boston                      NaN                 1   \n\n      has_medium_url has_xl_picture_url has_host_thumbnail_url  \\\n25157              1                  1                      1   \n12466              1                  1                      1   \n29295              1                  1                      1   \n4171               1                  1                      1   \n18052              1                  1                      1   \n22097              1                  1                      1   \n11653              1                  1                      1   \n24425              1                  1                      1   \n27356              1                  1                      1   \n2169               1                  1                      1   \n\n      has_host_picture_url  \n25157                    1  \n12466                    1  \n29295                    1  \n4171                     1  \n18052                    1  \n22097                    1  \n11653                    1  \n24425                    1  \n27356                    1  \n2169                     1  \n\n[10 rows x 93 columns]",
      "text/html": "<div>\n<style scoped>\n    .dataframe tbody tr th:only-of-type {\n        vertical-align: middle;\n    }\n\n    .dataframe tbody tr th {\n        vertical-align: top;\n    }\n\n    .dataframe thead th {\n        text-align: right;\n    }\n</style>\n<table border=\"1\" class=\"dataframe\">\n  <thead>\n    <tr style=\"text-align: right;\">\n      <th></th>\n      <th>id</th>\n      <th>scrape_id</th>\n      <th>last_scraped</th>\n      <th>name</th>\n      <th>summary</th>\n      <th>space</th>\n      <th>description</th>\n      <th>neighborhood_overview</th>\n      <th>notes</th>\n      <th>transit</th>\n      <th>...</th>\n      <th>require_guest_phone_verification</th>\n      <th>calculated_host_listings_count</th>\n      <th>reviews_per_month</th>\n      <th>source</th>\n      <th>is_business_travel_ready</th>\n      <th>has_thumbnail_url</th>\n      <th>has_medium_url</th>\n      <th>has_xl_picture_url</th>\n      <th>has_host_thumbnail_url</th>\n      <th>has_host_picture_url</th>\n    </tr>\n  </thead>\n  <tbody>\n    <tr>\n      <th>25157</th>\n      <td>23474140</td>\n      <td>20181107122246</td>\n      <td>2018-11-07</td>\n      <td>16m2 - Cozy room in quiet neighborhood of Berlin</td>\n      <td>Nice cozy room, located in a quiet residential...</td>\n      <td>NaN</td>\n      <td>Nice cozy room, located in a quiet residential...</td>\n      <td>NaN</td>\n      <td>NaN</td>\n      <td>NaN</td>\n      <td>...</td>\n      <td>False</td>\n      <td>2</td>\n      <td>NaN</td>\n      <td>Berlin</td>\n      <td>False</td>\n      <td>1</td>\n      <td>1</td>\n      <td>1</td>\n      <td>1</td>\n      <td>1</td>\n    </tr>\n    <tr>\n      <th>12466</th>\n      <td>7553270</td>\n      <td>20181107122246</td>\n      <td>2018-11-07</td>\n      <td>BIG ROOM IN MITTE FOR 2 PERSONS</td>\n      <td>Hey guys, I'm renting my big room in a central...</td>\n      <td>My flat is located in the very center of Berli...</td>\n      <td>Hey guys, I'm renting my big room in a central...</td>\n      <td>NaN</td>\n      <td>NaN</td>\n      <td>NaN</td>\n      <td>...</td>\n      <td>False</td>\n      <td>2</td>\n      <td>0.03</td>\n      <td>Berlin</td>\n      <td>False</td>\n      <td>1</td>\n      <td>1</td>\n      <td>1</td>\n      <td>1</td>\n      <td>1</td>\n    </tr>\n    <tr>\n      <th>29295</th>\n      <td>29096509</td>\n      <td>20181107122246</td>\n      <td>2018-11-07</td>\n      <td>Stay with a local near bars and 18 min. to centre</td>\n      <td>Stay with a local Berliner with a lot of couch...</td>\n      <td>You DON'T get any luxury here in terms of the ...</td>\n      <td>Stay with a local Berliner with a lot of couch...</td>\n      <td>It's a neighborhood that is close to the bars ...</td>\n      <td>FREE BREAKFAST will be provided. Please let me...</td>\n      <td>There are subways (U5), S-trains (S41 &amp; S42 Ri...</td>\n      <td>...</td>\n      <td>False</td>\n      <td>2</td>\n      <td>4.00</td>\n      <td>Berlin</td>\n      <td>False</td>\n      <td>1</td>\n      <td>1</td>\n      <td>1</td>\n      <td>1</td>\n      <td>1</td>\n    </tr>\n    <tr>\n      <th>4171</th>\n      <td>7462439</td>\n      <td>20160104002432</td>\n      <td>2016-01-04</td>\n      <td>Capitol Hill Apt, Magnificent Views</td>\n      <td>Spacious sun porch with magnificent view of th...</td>\n      <td>Wood floors, big windows, new kitchen applianc...</td>\n      <td>Spacious sun porch with magnificent view of th...</td>\n      <td>Capitol Hill is the place to be. The apartment...</td>\n      <td>Gay friendly, 420 friendly (outside)</td>\n      <td>There is plenty of street parking and bus line...</td>\n      <td>...</td>\n      <td>False</td>\n      <td>1</td>\n      <td>0.18</td>\n      <td>Seattle</td>\n      <td>NaN</td>\n      <td>1</td>\n      <td>1</td>\n      <td>1</td>\n      <td>1</td>\n      <td>1</td>\n    </tr>\n    <tr>\n      <th>18052</th>\n      <td>16066804</td>\n      <td>20181107122246</td>\n      <td>2018-11-07</td>\n      <td>Cozy room, 20 min Alexander Platz, Prenzlauer ...</td>\n      <td>The apartment is located in a pretty good area...</td>\n      <td>It's a cozy nice place to stay, only 2 min awa...</td>\n      <td>The apartment is located in a pretty good area...</td>\n      <td>The house is located in a central area, 2 min'...</td>\n      <td>A nice kitty is living here as well, but she i...</td>\n      <td>S Prenzlauer Allee (Ring Bhan) open till 1:00 ...</td>\n      <td>...</td>\n      <td>False</td>\n      <td>1</td>\n      <td>0.21</td>\n      <td>Berlin</td>\n      <td>False</td>\n      <td>1</td>\n      <td>1</td>\n      <td>1</td>\n      <td>1</td>\n      <td>1</td>\n    </tr>\n    <tr>\n      <th>22097</th>\n      <td>20634992</td>\n      <td>20181107122246</td>\n      <td>2018-11-07</td>\n      <td>Cozy Room next to tempelhofer feld</td>\n      <td>The room got a double bed, a desk for a laptop...</td>\n      <td>You got a room in a small shared living aparte...</td>\n      <td>The room got a double bed, a desk for a laptop...</td>\n      <td>Die Nachbarschaft ist mit dem direkten Anschlu...</td>\n      <td>Smoking is not allowed in the apartement, but ...</td>\n      <td>Öffentliche Verkehrsmittel: U Leinestr. ( U8 )...</td>\n      <td>...</td>\n      <td>False</td>\n      <td>2</td>\n      <td>0.23</td>\n      <td>Berlin</td>\n      <td>False</td>\n      <td>1</td>\n      <td>1</td>\n      <td>1</td>\n      <td>1</td>\n      <td>1</td>\n    </tr>\n    <tr>\n      <th>11653</th>\n      <td>6605484</td>\n      <td>20181107122246</td>\n      <td>2018-11-07</td>\n      <td>INDUSTRIE-LOFT in Kreuzkölln</td>\n      <td>Wir vermieten ausnahmsweise für einige Zeit (A...</td>\n      <td>Das Industrieloft mit insgesamt 150qm befindet...</td>\n      <td>Wir vermieten ausnahmsweise für einige Zeit (A...</td>\n      <td>Kreuzkölln ist derzeit the place to be wenn ma...</td>\n      <td>RAUCHEN: Unser Loft ist ein Nichraucherloft . ...</td>\n      <td>U8, U7, M59, M29</td>\n      <td>...</td>\n      <td>False</td>\n      <td>1</td>\n      <td>0.19</td>\n      <td>Berlin</td>\n      <td>False</td>\n      <td>1</td>\n      <td>1</td>\n      <td>1</td>\n      <td>1</td>\n      <td>1</td>\n    </tr>\n    <tr>\n      <th>24425</th>\n      <td>22700870</td>\n      <td>20181107122246</td>\n      <td>2018-11-07</td>\n      <td>Big, cozy and well communicated room in F'shain</td>\n      <td>Very bright, cozy and modern room, well commun...</td>\n      <td>The room is a wide, bright and cozy double roo...</td>\n      <td>Very bright, cozy and modern room, well commun...</td>\n      <td>It is a very quiet and residential neighborhoo...</td>\n      <td>The apartment is inside a big and tall buildin...</td>\n      <td>SBahn Storkower Strasse station is 2 min walk ...</td>\n      <td>...</td>\n      <td>False</td>\n      <td>1</td>\n      <td>0.72</td>\n      <td>Berlin</td>\n      <td>False</td>\n      <td>1</td>\n      <td>1</td>\n      <td>1</td>\n      <td>1</td>\n      <td>1</td>\n    </tr>\n    <tr>\n      <th>27356</th>\n      <td>26651462</td>\n      <td>20181107122246</td>\n      <td>2018-11-07</td>\n      <td>Schönes 2 Personen Loft im Prenzlauer Kiez</td>\n      <td>Ich heiße Sie herzlich willkommen in meinem sc...</td>\n      <td>NaN</td>\n      <td>Ich heiße Sie herzlich willkommen in meinem sc...</td>\n      <td>NaN</td>\n      <td>NaN</td>\n      <td>S Bahn Bornholmer Straße  oder S Bahn Schönhau...</td>\n      <td>...</td>\n      <td>False</td>\n      <td>1</td>\n      <td>0.54</td>\n      <td>Berlin</td>\n      <td>False</td>\n      <td>1</td>\n      <td>1</td>\n      <td>1</td>\n      <td>1</td>\n      <td>1</td>\n    </tr>\n    <tr>\n      <th>2169</th>\n      <td>14043390</td>\n      <td>20160906204935</td>\n      <td>2016-09-07</td>\n      <td>best location best price绝佳地段价格优惠</td>\n      <td>My comfortable one bedroom apartment with one ...</td>\n      <td>NaN</td>\n      <td>My comfortable one bedroom apartment with one ...</td>\n      <td>NaN</td>\n      <td>NaN</td>\n      <td>NaN</td>\n      <td>...</td>\n      <td>False</td>\n      <td>1</td>\n      <td>2.26</td>\n      <td>Boston</td>\n      <td>NaN</td>\n      <td>1</td>\n      <td>1</td>\n      <td>1</td>\n      <td>1</td>\n      <td>1</td>\n    </tr>\n  </tbody>\n</table>\n<p>10 rows × 93 columns</p>\n</div>"
     },
     "execution_count": 38,
     "metadata": {},
     "output_type": "execute_result"
    }
   ],
   "source": [
    "listings_all_same = []\n",
    "for col in listings_categorical:\n",
    "    if listings[col].value_counts(dropna=False).shape[0] == 1:\n",
    "        listings_all_same.append(col)\n",
    "        listings_categorical.remove(col)  \n",
    "\n",
    "for col in listings_presence:\n",
    "    if listings[col].value_counts(dropna=False).shape[0] == 1:\n",
    "        listings_all_same.append(col)\n",
    "        listings_presence.remove(col)  \n",
    "\n",
    "for col in listings_numeric:\n",
    "    if listings[col].value_counts(dropna=False).shape[0] == 1:\n",
    "        listings_all_same.append(col)\n",
    "        listings_numeric.remove(col)  \n",
    "        \n",
    "listings = listings.drop(listings_all_same, axis=1)\n",
    "listings.sample(10)"
   ]
  },
  {
   "cell_type": "code",
   "execution_count": 39,
   "metadata": {},
   "outputs": [
    {
     "name": "stdout",
     "output_type": "stream",
     "text": [
      "scrape_id\n",
      "host_id\n",
      "host_identity_verified\n",
      "has_thumbnail_url\n",
      "has_medium_url\n",
      "has_xl_picture_url\n",
      "has_host_thumbnail_url\n",
      "has_host_picture_url\n"
     ]
    }
   ],
   "source": [
    "for col in listings.columns:\n",
    "    if '_id' in col or '_url' in col:\n",
    "        print(col)"
   ]
  },
  {
   "cell_type": "code",
   "execution_count": 40,
   "metadata": {
    "scrolled": false
   },
   "outputs": [],
   "source": [
    "# convert boolean columns to integer\n",
    "boolcol = listings.select_dtypes('bool').columns\n",
    "for col in boolcol:\n",
    "    listings[col] = listings[col].apply(lambda x: int(x))\n",
    "#boolcol = calendar.select_dtypes('bool').columns\n",
    "#for col in boolcol:\n",
    "#    calendar[col] = calendar[col].apply(lambda x: int(x))\n",
    "#boolcol = reviews.select_dtypes('bool').columns\n",
    "#for col in boolcol:\n",
    "#    reviews[col] = reviews[col].apply(lambda x: int(x))"
   ]
  },
  {
   "cell_type": "markdown",
   "metadata": {
    "pycharm": {
     "name": "#%% md\n"
    }
   },
   "source": [
    "## Tables Overview"
   ]
  },
  {
   "cell_type": "code",
   "execution_count": 41,
   "metadata": {
    "pycharm": {
     "name": "#%%\n"
    }
   },
   "outputs": [],
   "source": [
    "#sns.pairplot(listings, vars=listings_numeric)"
   ]
  },
  {
   "cell_type": "code",
   "execution_count": 42,
   "metadata": {
    "pycharm": {
     "name": "#%%\n"
    },
    "scrolled": false
   },
   "outputs": [],
   "source": [
    "#sns.pairplot(calendar)#"
   ]
  },
  {
   "cell_type": "code",
   "execution_count": 43,
   "outputs": [],
   "source": [
    "#sns.pairplot(listings, vars=listings_numeric, kind='reg')"
   ],
   "metadata": {
    "collapsed": false,
    "pycharm": {
     "name": "#%%\n"
    }
   }
  },
  {
   "cell_type": "code",
   "execution_count": 44,
   "outputs": [
    {
     "name": "stdout",
     "output_type": "stream",
     "text": [
      "0    20935\n",
      "1     3171\n",
      "Name: source_Seattle, dtype: int64\n"
     ]
    },
    {
     "data": {
      "text/plain": "             id       scrape_id   host_id  host_listings_count  \\\n23903  22206885  20181107122246  44866580                  1.0   \n17771  15603508  20181107122246   5386105                  1.0   \n13633   8966046  20181107122246  17450447                  2.0   \n19944  18515849  20181107122246  13354469                  1.0   \n27340  26630740  20181107122246  22169045                  1.0   \n26330  25003493  20181107122246  78431703                  1.0   \n15257  11566528  20181107122246   1929820                  1.0   \n17019  14298327  20181107122246  20029104                  1.0   \n11999   7058758  20181107122246  12541677                  1.0   \n9366    2761128  20181107122246  14121873                  1.0   \n\n       host_total_listings_count   latitude  longitude  accommodates  \\\n23903                        1.0  52.436510  13.278643             2   \n17771                        1.0  52.451004  13.319178             1   \n13633                        2.0  52.501364  13.443540             8   \n19944                        1.0  52.523663  13.450006             2   \n27340                        1.0  52.559425  13.386171             2   \n26330                        1.0  52.494052  13.424429             2   \n15257                        1.0  52.516607  13.445520             3   \n17019                        1.0  52.557555  13.465755             2   \n11999                        1.0  52.473026  13.453294             3   \n9366                         1.0  52.485138  13.390073             6   \n\n       bathrooms  bedrooms  ...  calendar_updated_never  \\\n23903        1.0       1.0  ...                       0   \n17771        1.0       1.0  ...                       0   \n13633        1.0       3.0  ...                       0   \n19944        1.0       1.0  ...                       0   \n27340        1.0       1.0  ...                       0   \n26330        1.0       1.0  ...                       0   \n15257        1.0       2.0  ...                       0   \n17019        1.0       1.0  ...                       0   \n11999        1.0       1.0  ...                       0   \n9366         1.5       3.0  ...                       0   \n\n       calendar_updated_today  calendar_updated_yesterday  \\\n23903                       0                           0   \n17771                       0                           0   \n13633                       0                           0   \n19944                       0                           0   \n27340                       0                           0   \n26330                       0                           0   \n15257                       0                           1   \n17019                       0                           0   \n11999                       0                           0   \n9366                        0                           0   \n\n       calendar_updated_nan  jurisdiction_names_nan  has_thumbnail_url  \\\n23903                     0                       1                  1   \n17771                     0                       1                  1   \n13633                     0                       1                  1   \n19944                     0                       1                  1   \n27340                     0                       1                  1   \n26330                     0                       1                  1   \n15257                     0                       1                  1   \n17019                     0                       1                  1   \n11999                     0                       1                  1   \n9366                      0                       1                  1   \n\n       has_medium_url  has_xl_picture_url  has_host_thumbnail_url  \\\n23903               1                   1                       1   \n17771               1                   1                       1   \n13633               1                   1                       1   \n19944               1                   1                       1   \n27340               1                   1                       1   \n26330               1                   1                       1   \n15257               1                   1                       1   \n17019               1                   1                       1   \n11999               1                   1                       1   \n9366                1                   1                       1   \n\n       has_host_picture_url  \n23903                     1  \n17771                     1  \n13633                     1  \n19944                     1  \n27340                     1  \n26330                     1  \n15257                     1  \n17019                     1  \n11999                     1  \n9366                      1  \n\n[10 rows x 2390 columns]",
      "text/html": "<div>\n<style scoped>\n    .dataframe tbody tr th:only-of-type {\n        vertical-align: middle;\n    }\n\n    .dataframe tbody tr th {\n        vertical-align: top;\n    }\n\n    .dataframe thead th {\n        text-align: right;\n    }\n</style>\n<table border=\"1\" class=\"dataframe\">\n  <thead>\n    <tr style=\"text-align: right;\">\n      <th></th>\n      <th>id</th>\n      <th>scrape_id</th>\n      <th>host_id</th>\n      <th>host_listings_count</th>\n      <th>host_total_listings_count</th>\n      <th>latitude</th>\n      <th>longitude</th>\n      <th>accommodates</th>\n      <th>bathrooms</th>\n      <th>bedrooms</th>\n      <th>...</th>\n      <th>calendar_updated_never</th>\n      <th>calendar_updated_today</th>\n      <th>calendar_updated_yesterday</th>\n      <th>calendar_updated_nan</th>\n      <th>jurisdiction_names_nan</th>\n      <th>has_thumbnail_url</th>\n      <th>has_medium_url</th>\n      <th>has_xl_picture_url</th>\n      <th>has_host_thumbnail_url</th>\n      <th>has_host_picture_url</th>\n    </tr>\n  </thead>\n  <tbody>\n    <tr>\n      <th>23903</th>\n      <td>22206885</td>\n      <td>20181107122246</td>\n      <td>44866580</td>\n      <td>1.0</td>\n      <td>1.0</td>\n      <td>52.436510</td>\n      <td>13.278643</td>\n      <td>2</td>\n      <td>1.0</td>\n      <td>1.0</td>\n      <td>...</td>\n      <td>0</td>\n      <td>0</td>\n      <td>0</td>\n      <td>0</td>\n      <td>1</td>\n      <td>1</td>\n      <td>1</td>\n      <td>1</td>\n      <td>1</td>\n      <td>1</td>\n    </tr>\n    <tr>\n      <th>17771</th>\n      <td>15603508</td>\n      <td>20181107122246</td>\n      <td>5386105</td>\n      <td>1.0</td>\n      <td>1.0</td>\n      <td>52.451004</td>\n      <td>13.319178</td>\n      <td>1</td>\n      <td>1.0</td>\n      <td>1.0</td>\n      <td>...</td>\n      <td>0</td>\n      <td>0</td>\n      <td>0</td>\n      <td>0</td>\n      <td>1</td>\n      <td>1</td>\n      <td>1</td>\n      <td>1</td>\n      <td>1</td>\n      <td>1</td>\n    </tr>\n    <tr>\n      <th>13633</th>\n      <td>8966046</td>\n      <td>20181107122246</td>\n      <td>17450447</td>\n      <td>2.0</td>\n      <td>2.0</td>\n      <td>52.501364</td>\n      <td>13.443540</td>\n      <td>8</td>\n      <td>1.0</td>\n      <td>3.0</td>\n      <td>...</td>\n      <td>0</td>\n      <td>0</td>\n      <td>0</td>\n      <td>0</td>\n      <td>1</td>\n      <td>1</td>\n      <td>1</td>\n      <td>1</td>\n      <td>1</td>\n      <td>1</td>\n    </tr>\n    <tr>\n      <th>19944</th>\n      <td>18515849</td>\n      <td>20181107122246</td>\n      <td>13354469</td>\n      <td>1.0</td>\n      <td>1.0</td>\n      <td>52.523663</td>\n      <td>13.450006</td>\n      <td>2</td>\n      <td>1.0</td>\n      <td>1.0</td>\n      <td>...</td>\n      <td>0</td>\n      <td>0</td>\n      <td>0</td>\n      <td>0</td>\n      <td>1</td>\n      <td>1</td>\n      <td>1</td>\n      <td>1</td>\n      <td>1</td>\n      <td>1</td>\n    </tr>\n    <tr>\n      <th>27340</th>\n      <td>26630740</td>\n      <td>20181107122246</td>\n      <td>22169045</td>\n      <td>1.0</td>\n      <td>1.0</td>\n      <td>52.559425</td>\n      <td>13.386171</td>\n      <td>2</td>\n      <td>1.0</td>\n      <td>1.0</td>\n      <td>...</td>\n      <td>0</td>\n      <td>0</td>\n      <td>0</td>\n      <td>0</td>\n      <td>1</td>\n      <td>1</td>\n      <td>1</td>\n      <td>1</td>\n      <td>1</td>\n      <td>1</td>\n    </tr>\n    <tr>\n      <th>26330</th>\n      <td>25003493</td>\n      <td>20181107122246</td>\n      <td>78431703</td>\n      <td>1.0</td>\n      <td>1.0</td>\n      <td>52.494052</td>\n      <td>13.424429</td>\n      <td>2</td>\n      <td>1.0</td>\n      <td>1.0</td>\n      <td>...</td>\n      <td>0</td>\n      <td>0</td>\n      <td>0</td>\n      <td>0</td>\n      <td>1</td>\n      <td>1</td>\n      <td>1</td>\n      <td>1</td>\n      <td>1</td>\n      <td>1</td>\n    </tr>\n    <tr>\n      <th>15257</th>\n      <td>11566528</td>\n      <td>20181107122246</td>\n      <td>1929820</td>\n      <td>1.0</td>\n      <td>1.0</td>\n      <td>52.516607</td>\n      <td>13.445520</td>\n      <td>3</td>\n      <td>1.0</td>\n      <td>2.0</td>\n      <td>...</td>\n      <td>0</td>\n      <td>0</td>\n      <td>1</td>\n      <td>0</td>\n      <td>1</td>\n      <td>1</td>\n      <td>1</td>\n      <td>1</td>\n      <td>1</td>\n      <td>1</td>\n    </tr>\n    <tr>\n      <th>17019</th>\n      <td>14298327</td>\n      <td>20181107122246</td>\n      <td>20029104</td>\n      <td>1.0</td>\n      <td>1.0</td>\n      <td>52.557555</td>\n      <td>13.465755</td>\n      <td>2</td>\n      <td>1.0</td>\n      <td>1.0</td>\n      <td>...</td>\n      <td>0</td>\n      <td>0</td>\n      <td>0</td>\n      <td>0</td>\n      <td>1</td>\n      <td>1</td>\n      <td>1</td>\n      <td>1</td>\n      <td>1</td>\n      <td>1</td>\n    </tr>\n    <tr>\n      <th>11999</th>\n      <td>7058758</td>\n      <td>20181107122246</td>\n      <td>12541677</td>\n      <td>1.0</td>\n      <td>1.0</td>\n      <td>52.473026</td>\n      <td>13.453294</td>\n      <td>3</td>\n      <td>1.0</td>\n      <td>1.0</td>\n      <td>...</td>\n      <td>0</td>\n      <td>0</td>\n      <td>0</td>\n      <td>0</td>\n      <td>1</td>\n      <td>1</td>\n      <td>1</td>\n      <td>1</td>\n      <td>1</td>\n      <td>1</td>\n    </tr>\n    <tr>\n      <th>9366</th>\n      <td>2761128</td>\n      <td>20181107122246</td>\n      <td>14121873</td>\n      <td>1.0</td>\n      <td>1.0</td>\n      <td>52.485138</td>\n      <td>13.390073</td>\n      <td>6</td>\n      <td>1.5</td>\n      <td>3.0</td>\n      <td>...</td>\n      <td>0</td>\n      <td>0</td>\n      <td>0</td>\n      <td>0</td>\n      <td>1</td>\n      <td>1</td>\n      <td>1</td>\n      <td>1</td>\n      <td>1</td>\n      <td>1</td>\n    </tr>\n  </tbody>\n</table>\n<p>10 rows × 2390 columns</p>\n</div>"
     },
     "execution_count": 44,
     "metadata": {},
     "output_type": "execute_result"
    }
   ],
   "source": [
    "X, y = fit_prepare(listings, 'review_scores_rating', listings_numeric, listings_categorical, listings_presence)\n",
    "X.drop([col for col in X.columns if 'review_scores' in col], inplace=True, axis=1)\n",
    "print(X['source_Seattle'].value_counts())\n",
    "X.sample(10)"
   ],
   "metadata": {
    "collapsed": false,
    "pycharm": {
     "name": "#%%\n"
    }
   }
  },
  {
   "cell_type": "code",
   "execution_count": 45,
   "outputs": [],
   "source": [
    "X_train, X_test, y_train, y_test = train_test_split(X, y, test_size=0.2, random_state=23 * 42)\n",
    "\n",
    "pipeline = Pipeline([\n",
    "    ('norm', StandardScaler()),\n",
    "    ('model', Ridge())\n",
    "])\n",
    "alphas = np.logspace(-7, -1, 16)\n",
    "\n",
    "PCV = GridSearchCV(pipeline, {'model__alpha': alphas}, n_jobs=-1)"
   ],
   "metadata": {
    "collapsed": false,
    "pycharm": {
     "name": "#%%\n"
    }
   }
  },
  {
   "cell_type": "code",
   "execution_count": 46,
   "outputs": [],
   "source": [
    "pcvf = PCV.fit(X_train, y_train)\n",
    "#pcvf = PCV.fit(X, y)"
   ],
   "metadata": {
    "collapsed": false,
    "pycharm": {
     "name": "#%%\n"
    }
   }
  },
  {
   "cell_type": "code",
   "execution_count": 47,
   "outputs": [
    {
     "data": {
      "text/plain": "{'model__alpha': 0.1}"
     },
     "execution_count": 47,
     "metadata": {},
     "output_type": "execute_result"
    }
   ],
   "source": [
    "pcvf.best_params_"
   ],
   "metadata": {
    "collapsed": false,
    "pycharm": {
     "name": "#%%\n"
    }
   }
  },
  {
   "cell_type": "code",
   "execution_count": 48,
   "outputs": [
    {
     "name": "stdout",
     "output_type": "stream",
     "text": [
      "train score: 0.22579558148621026  | test score: -0.003127172660233102\n"
     ]
    }
   ],
   "source": [
    "esti = pcvf.best_estimator_\n",
    "print('train score: {}  | test score: {}'.format(esti.score(X_train, y_train), esti.score(X_test, y_test)))"
   ],
   "metadata": {
    "collapsed": false,
    "pycharm": {
     "name": "#%%\n"
    }
   }
  },
  {
   "cell_type": "code",
   "execution_count": 49,
   "outputs": [],
   "source": [
    "coeff = esti.steps[-1][1].coef_"
   ],
   "metadata": {
    "collapsed": false,
    "pycharm": {
     "name": "#%%\n"
    }
   }
  },
  {
   "cell_type": "code",
   "execution_count": 50,
   "outputs": [
    {
     "data": {
      "text/plain": "<matplotlib.legend.Legend at 0x1c18388e780>"
     },
     "execution_count": 50,
     "metadata": {},
     "output_type": "execute_result"
    },
    {
     "data": {
      "text/plain": "<Figure size 432x288 with 1 Axes>",
      "image/png": "[encoded data removed]"
     },
     "metadata": {},
     "output_type": "display_data"
    }
   ],
   "source": [
    "plt.scatter(esti.predict(X_train), y_train, label='train')\n",
    "plt.scatter(esti.predict(X_test), y_test, label='test')\n",
    "limmin = min(plt.xlim()[0], plt.ylim()[0])\n",
    "limmax = max(plt.xlim()[1], plt.ylim()[1])\n",
    "plt.xlim((limmin, limmax))\n",
    "plt.ylim((limmin, limmax))\n",
    "plt.xlabel('predicted')\n",
    "plt.ylabel('actual')\n",
    "plt.legend(loc='best')"
   ],
   "metadata": {
    "collapsed": false,
    "pycharm": {
     "name": "#%%\n"
    }
   }
  },
  {
   "cell_type": "code",
   "execution_count": 51,
   "outputs": [
    {
     "data": {
      "text/plain": "                                                    coefficient  \\\nlatitude                                              13.163913   \nstate_Berlin                                           3.956574   \nhost_location_Berlin, Berlin, Germany                  2.802919   \nscrape_id                                             -1.950315   \nneighbourhood_group_cleansed_nan                       1.924221   \nstate_MA                                               1.924221   \nsource_Boston                                          1.924221   \ncity_Boston                                            1.853929   \nsmart_location_Boston, MA                              1.853929   \ncalculated_host_listings_count                        -1.796771   \nneighbourhood_cleansed_Charlestown                     1.778691   \nhost_location_Seattle, Washington, United States       1.642135   \nhost_location_Boston, Massachusetts, United States     1.341518   \nzipcode_02129                                         -1.303828   \nhost_neighbourhood_nan                                -1.204513   \nsmart_location_Berlin, Germany                        -1.140375   \ncity_Berlin                                           -1.137037   \nhost_location_DE                                       1.112235   \navailability_60                                       -1.008961   \nhost_acceptance_rate_55%                               0.908111   \n\n                                                    coefficient_abs  \nlatitude                                                  13.163913  \nstate_Berlin                                               3.956574  \nhost_location_Berlin, Berlin, Germany                      2.802919  \nscrape_id                                                  1.950315  \nneighbourhood_group_cleansed_nan                           1.924221  \nstate_MA                                                   1.924221  \nsource_Boston                                              1.924221  \ncity_Boston                                                1.853929  \nsmart_location_Boston, MA                                  1.853929  \ncalculated_host_listings_count                             1.796771  \nneighbourhood_cleansed_Charlestown                         1.778691  \nhost_location_Seattle, Washington, United States           1.642135  \nhost_location_Boston, Massachusetts, United States         1.341518  \nzipcode_02129                                              1.303828  \nhost_neighbourhood_nan                                     1.204513  \nsmart_location_Berlin, Germany                             1.140375  \ncity_Berlin                                                1.137037  \nhost_location_DE                                           1.112235  \navailability_60                                            1.008961  \nhost_acceptance_rate_55%                                   0.908111  ",
      "text/html": "<div>\n<style scoped>\n    .dataframe tbody tr th:only-of-type {\n        vertical-align: middle;\n    }\n\n    .dataframe tbody tr th {\n        vertical-align: top;\n    }\n\n    .dataframe thead th {\n        text-align: right;\n    }\n</style>\n<table border=\"1\" class=\"dataframe\">\n  <thead>\n    <tr style=\"text-align: right;\">\n      <th></th>\n      <th>coefficient</th>\n      <th>coefficient_abs</th>\n    </tr>\n  </thead>\n  <tbody>\n    <tr>\n      <th>latitude</th>\n      <td>13.163913</td>\n      <td>13.163913</td>\n    </tr>\n    <tr>\n      <th>state_Berlin</th>\n      <td>3.956574</td>\n      <td>3.956574</td>\n    </tr>\n    <tr>\n      <th>host_location_Berlin, Berlin, Germany</th>\n      <td>2.802919</td>\n      <td>2.802919</td>\n    </tr>\n    <tr>\n      <th>scrape_id</th>\n      <td>-1.950315</td>\n      <td>1.950315</td>\n    </tr>\n    <tr>\n      <th>neighbourhood_group_cleansed_nan</th>\n      <td>1.924221</td>\n      <td>1.924221</td>\n    </tr>\n    <tr>\n      <th>state_MA</th>\n      <td>1.924221</td>\n      <td>1.924221</td>\n    </tr>\n    <tr>\n      <th>source_Boston</th>\n      <td>1.924221</td>\n      <td>1.924221</td>\n    </tr>\n    <tr>\n      <th>city_Boston</th>\n      <td>1.853929</td>\n      <td>1.853929</td>\n    </tr>\n    <tr>\n      <th>smart_location_Boston, MA</th>\n      <td>1.853929</td>\n      <td>1.853929</td>\n    </tr>\n    <tr>\n      <th>calculated_host_listings_count</th>\n      <td>-1.796771</td>\n      <td>1.796771</td>\n    </tr>\n    <tr>\n      <th>neighbourhood_cleansed_Charlestown</th>\n      <td>1.778691</td>\n      <td>1.778691</td>\n    </tr>\n    <tr>\n      <th>host_location_Seattle, Washington, United States</th>\n      <td>1.642135</td>\n      <td>1.642135</td>\n    </tr>\n    <tr>\n      <th>host_location_Boston, Massachusetts, United States</th>\n      <td>1.341518</td>\n      <td>1.341518</td>\n    </tr>\n    <tr>\n      <th>zipcode_02129</th>\n      <td>-1.303828</td>\n      <td>1.303828</td>\n    </tr>\n    <tr>\n      <th>host_neighbourhood_nan</th>\n      <td>-1.204513</td>\n      <td>1.204513</td>\n    </tr>\n    <tr>\n      <th>smart_location_Berlin, Germany</th>\n      <td>-1.140375</td>\n      <td>1.140375</td>\n    </tr>\n    <tr>\n      <th>city_Berlin</th>\n      <td>-1.137037</td>\n      <td>1.137037</td>\n    </tr>\n    <tr>\n      <th>host_location_DE</th>\n      <td>1.112235</td>\n      <td>1.112235</td>\n    </tr>\n    <tr>\n      <th>availability_60</th>\n      <td>-1.008961</td>\n      <td>1.008961</td>\n    </tr>\n    <tr>\n      <th>host_acceptance_rate_55%</th>\n      <td>0.908111</td>\n      <td>0.908111</td>\n    </tr>\n  </tbody>\n</table>\n</div>"
     },
     "execution_count": 51,
     "metadata": {},
     "output_type": "execute_result"
    },
    {
     "data": {
      "text/plain": "<Figure size 432x288 with 1 Axes>",
      "image/png": "[encoded data removed]"
     },
     "metadata": {},
     "output_type": "display_data"
    }
   ],
   "source": [
    "plt.plot(coeff)\n",
    "coeff_vals = pd.DataFrame(coeff, index=X.columns, columns=['coefficient'])\n",
    "coeff_vals['coefficient_abs']=np.abs(coeff_vals['coefficient'])\n",
    "coeff_vals.sort_values(by='coefficient_abs', ascending=False).head(20)"
   ],
   "metadata": {
    "collapsed": false,
    "pycharm": {
     "name": "#%%\n"
    }
   }
  },
  {
   "cell_type": "code",
   "execution_count": 52,
   "outputs": [
    {
     "name": "stdout",
     "output_type": "stream",
     "text": [
      "(3171, 2390) (3171,) (2772, 2390) (2772,) (18163, 2390) (18163,)\n"
     ]
    }
   ],
   "source": [
    "X_sea = X[X['source_Seattle'] == 1]\n",
    "y_sea = y.loc[X_sea.index]\n",
    "X_bos = X[X['source_Boston'] == 1]\n",
    "y_bos = y.loc[X_bos.index]\n",
    "X_ber = X[X['source_Boston'] == X['source_Seattle']]\n",
    "y_ber = y.loc[X_ber.index]\n",
    "print(X_sea.shape, y_sea.shape, X_bos.shape, y_bos.shape, X_ber.shape, y_ber.shape)"
   ],
   "metadata": {
    "collapsed": false,
    "pycharm": {
     "name": "#%%\n"
    }
   }
  },
  {
   "cell_type": "code",
   "execution_count": 53,
   "outputs": [
    {
     "name": "stdout",
     "output_type": "stream",
     "text": [
      "{'model__alpha': 0.1}\n",
      "Seattle:: train score: 0.2942399327103503  | test score: 0.015741458094922556\n",
      "Boston::  train score: 0.37432183595662627  | test score: -0.08091547309927605\n",
      "Berlin::  train score: 0.20243423390373816  | test score: -0.08010662897339871\n"
     ]
    },
    {
     "data": {
      "text/plain": "<matplotlib.legend.Legend at 0x1c18388eac8>"
     },
     "execution_count": 53,
     "metadata": {},
     "output_type": "execute_result"
    },
    {
     "data": {
      "text/plain": "<Figure size 432x288 with 1 Axes>",
      "image/png": "[encoded data removed]"
     },
     "metadata": {},
     "output_type": "display_data"
    }
   ],
   "source": [
    "X_sea_train, X_sea_test, y_sea_train, y_sea_test = train_test_split(X_sea, y_sea, test_size=0.1, random_state=23 * 42)\n",
    "sea_pipeline = Pipeline([\n",
    "    ('norm', StandardScaler()),\n",
    "    ('model', Ridge(alpha=0.001))\n",
    "])\n",
    "\n",
    "sea_PCV = GridSearchCV(pipeline, {'model__alpha': alphas}, n_jobs=-1)\n",
    "sea_PCV_f = sea_PCV.fit(X_sea_train, y_sea_train)\n",
    "print(sea_PCV_f.best_params_)\n",
    "\n",
    "X_bos_train, X_bos_test, y_bos_train, y_bos_test = train_test_split(X_bos, y_bos, test_size=0.1, random_state=23 * 42)\n",
    "bos_pipeline = Pipeline([\n",
    "    ('norm', StandardScaler()),\n",
    "    ('model', Ridge(alpha=sea_PCV_f.best_params_['model__alpha']))\n",
    "])\n",
    "\n",
    "X_ber_train, X_ber_test, y_ber_train, y_ber_test = train_test_split(X_ber, y_ber, test_size=0.1, random_state=23 * 42)\n",
    "ber_pipeline = Pipeline([\n",
    "    ('norm', StandardScaler()),\n",
    "    ('model', Ridge(alpha=sea_PCV_f.best_params_['model__alpha']))\n",
    "])\n",
    "\n",
    "\n",
    "sea_pipeline.fit(X_sea_train, y_sea_train)\n",
    "print('Seattle:: train score: {}  | test score: {}'.format(sea_pipeline.score(X_sea_train, y_sea_train), sea_pipeline.score(X_sea_test, y_sea_test)))\n",
    "\n",
    "bos_pipeline.fit(X_bos_train, y_bos_train)\n",
    "print('Boston::  train score: {}  | test score: {}'.format(bos_pipeline.score(X_bos_train, y_bos_train), bos_pipeline.score(X_bos_test, y_bos_test)))\n",
    "\n",
    "ber_pipeline.fit(X_ber_train, y_ber_train)\n",
    "print('Berlin::  train score: {}  | test score: {}'.format(ber_pipeline.score(X_ber_train, y_ber_train), ber_pipeline.score(X_ber_test, y_ber_test)))\n",
    "\n",
    "plt.scatter(sea_pipeline.predict(X_sea_train), y_sea_train, label='Seattle train')\n",
    "plt.scatter(sea_pipeline.predict(X_sea_test), y_sea_test, label='Seattle test')\n",
    "plt.scatter(bos_pipeline.predict(X_bos_train), y_bos_train, label='Boston train')\n",
    "plt.scatter(bos_pipeline.predict(X_bos_test), y_bos_test, label='Boston test')\n",
    "plt.scatter(ber_pipeline.predict(X_ber_train), y_ber_train, label='Berlin train')\n",
    "plt.scatter(ber_pipeline.predict(X_ber_test), y_ber_test, label='Berlin test')\n",
    "\n",
    "limmin = min(plt.xlim()[0], plt.ylim()[0])\n",
    "limmax = max(plt.xlim()[1], plt.ylim()[1])\n",
    "plt.xlim((limmin, limmax))\n",
    "plt.ylim((limmin, limmax))\n",
    "plt.xlabel('predicted')\n",
    "plt.ylabel('actual')\n",
    "plt.legend(loc='best')"
   ],
   "metadata": {
    "collapsed": false,
    "pycharm": {
     "name": "#%%\n"
    }
   }
  },
  {
   "cell_type": "code",
   "execution_count": 54,
   "outputs": [
    {
     "data": {
      "text/plain": "                                       coefficient  coefficient_abs\ncalculated_host_listings_count           -1.500606         1.500606\navailability_60                          -1.486744         1.486744\nhost_neighbourhood_Fenway/Kenmore        -1.168987         1.168987\nprice                                     1.088717         1.088717\navailability_90                           1.080238         1.080238\nhost_neighbourhood_Eastlake               1.001407         1.001407\nhost_response_rate_40%                   -0.992503         0.992503\nzipcode_98199                             0.978281         0.978281\nneighbourhood_cleansed_Eastlake          -0.956843         0.956843\nzipcode_98121                            -0.803424         0.803424\nhost_neighbourhood_Ravenna               -0.735850         0.735850\ncalendar_updated_4 months ago            -0.714339         0.714339\nzipcode_98101                            -0.703063         0.703063\nhost_neighbourhood_North Admiral         -0.675126         0.675126\nneighbourhood_cleansed_Westlake           0.647756         0.647756\nneighbourhood_group_cleansed_Magnolia    -0.647738         0.647738\nneighbourhood_cleansed_Green Lake        -0.641200         0.641200\nzipcode_98115                             0.627738         0.627738\ncalendar_updated_9 months ago            -0.597889         0.597889\naccommodates                             -0.596609         0.596609",
      "text/html": "<div>\n<style scoped>\n    .dataframe tbody tr th:only-of-type {\n        vertical-align: middle;\n    }\n\n    .dataframe tbody tr th {\n        vertical-align: top;\n    }\n\n    .dataframe thead th {\n        text-align: right;\n    }\n</style>\n<table border=\"1\" class=\"dataframe\">\n  <thead>\n    <tr style=\"text-align: right;\">\n      <th></th>\n      <th>coefficient</th>\n      <th>coefficient_abs</th>\n    </tr>\n  </thead>\n  <tbody>\n    <tr>\n      <th>calculated_host_listings_count</th>\n      <td>-1.500606</td>\n      <td>1.500606</td>\n    </tr>\n    <tr>\n      <th>availability_60</th>\n      <td>-1.486744</td>\n      <td>1.486744</td>\n    </tr>\n    <tr>\n      <th>host_neighbourhood_Fenway/Kenmore</th>\n      <td>-1.168987</td>\n      <td>1.168987</td>\n    </tr>\n    <tr>\n      <th>price</th>\n      <td>1.088717</td>\n      <td>1.088717</td>\n    </tr>\n    <tr>\n      <th>availability_90</th>\n      <td>1.080238</td>\n      <td>1.080238</td>\n    </tr>\n    <tr>\n      <th>host_neighbourhood_Eastlake</th>\n      <td>1.001407</td>\n      <td>1.001407</td>\n    </tr>\n    <tr>\n      <th>host_response_rate_40%</th>\n      <td>-0.992503</td>\n      <td>0.992503</td>\n    </tr>\n    <tr>\n      <th>zipcode_98199</th>\n      <td>0.978281</td>\n      <td>0.978281</td>\n    </tr>\n    <tr>\n      <th>neighbourhood_cleansed_Eastlake</th>\n      <td>-0.956843</td>\n      <td>0.956843</td>\n    </tr>\n    <tr>\n      <th>zipcode_98121</th>\n      <td>-0.803424</td>\n      <td>0.803424</td>\n    </tr>\n    <tr>\n      <th>host_neighbourhood_Ravenna</th>\n      <td>-0.735850</td>\n      <td>0.735850</td>\n    </tr>\n    <tr>\n      <th>calendar_updated_4 months ago</th>\n      <td>-0.714339</td>\n      <td>0.714339</td>\n    </tr>\n    <tr>\n      <th>zipcode_98101</th>\n      <td>-0.703063</td>\n      <td>0.703063</td>\n    </tr>\n    <tr>\n      <th>host_neighbourhood_North Admiral</th>\n      <td>-0.675126</td>\n      <td>0.675126</td>\n    </tr>\n    <tr>\n      <th>neighbourhood_cleansed_Westlake</th>\n      <td>0.647756</td>\n      <td>0.647756</td>\n    </tr>\n    <tr>\n      <th>neighbourhood_group_cleansed_Magnolia</th>\n      <td>-0.647738</td>\n      <td>0.647738</td>\n    </tr>\n    <tr>\n      <th>neighbourhood_cleansed_Green Lake</th>\n      <td>-0.641200</td>\n      <td>0.641200</td>\n    </tr>\n    <tr>\n      <th>zipcode_98115</th>\n      <td>0.627738</td>\n      <td>0.627738</td>\n    </tr>\n    <tr>\n      <th>calendar_updated_9 months ago</th>\n      <td>-0.597889</td>\n      <td>0.597889</td>\n    </tr>\n    <tr>\n      <th>accommodates</th>\n      <td>-0.596609</td>\n      <td>0.596609</td>\n    </tr>\n  </tbody>\n</table>\n</div>"
     },
     "execution_count": 54,
     "metadata": {},
     "output_type": "execute_result"
    },
    {
     "data": {
      "text/plain": "<Figure size 432x288 with 1 Axes>",
      "image/png": "[encoded data removed]"
     },
     "metadata": {},
     "output_type": "display_data"
    }
   ],
   "source": [
    "plt.plot(sea_pipeline.steps[-1][-1].coef_, label='Seattle')\n",
    "plt.plot(bos_pipeline.steps[-1][-1].coef_, label='Boston')\n",
    "sea_coeff_vals = pd.DataFrame(sea_pipeline.steps[-1][-1].coef_, index=X.columns, columns=['coefficient'])\n",
    "sea_coeff_vals['coefficient_abs']=np.abs(sea_coeff_vals['coefficient'])\n",
    "sea_coeff_vals.sort_values(by='coefficient_abs', ascending=False).head(20)"
   ],
   "metadata": {
    "collapsed": false,
    "pycharm": {
     "name": "#%%\n"
    }
   }
  },
  {
   "cell_type": "code",
   "execution_count": 55,
   "outputs": [
    {
     "data": {
      "text/plain": "                                                    coefficient  \\\ncalculated_host_listings_count                        -5.831863   \nneighbourhood_cleansed_Charlestown                     4.772875   \nzipcode_02129                                         -4.436439   \nhost_total_listings_count                              2.986978   \nhost_listings_count                                    2.986978   \nzipcode_02128                                         -2.701517   \nhost_acceptance_rate_45%                              -2.131560   \ncalendar_updated_today                                 2.131516   \nhost_response_rate_79%                                -1.748207   \nneighbourhood_cleansed_Hyde Park                       1.739552   \nneighbourhood_cleansed_East Boston                     1.698938   \nhost_response_rate_98%                                -1.499234   \nlongitude                                             -1.468530   \nprice                                                  1.431520   \nneighbourhood_cleansed_Allston                        -1.408141   \nhost_response_time_within an hour                     -1.400997   \nhost_neighbourhood_Hyde Park                          -1.379291   \ncalendar_updated_14 months ago                        -1.345407   \nhost_location_Newport Beach, California, United...    -1.339356   \nhost_neighbourhood_Jamaica Plain                       1.313189   \n\n                                                    coefficient_abs  \ncalculated_host_listings_count                             5.831863  \nneighbourhood_cleansed_Charlestown                         4.772875  \nzipcode_02129                                              4.436439  \nhost_total_listings_count                                  2.986978  \nhost_listings_count                                        2.986978  \nzipcode_02128                                              2.701517  \nhost_acceptance_rate_45%                                   2.131560  \ncalendar_updated_today                                     2.131516  \nhost_response_rate_79%                                     1.748207  \nneighbourhood_cleansed_Hyde Park                           1.739552  \nneighbourhood_cleansed_East Boston                         1.698938  \nhost_response_rate_98%                                     1.499234  \nlongitude                                                  1.468530  \nprice                                                      1.431520  \nneighbourhood_cleansed_Allston                             1.408141  \nhost_response_time_within an hour                          1.400997  \nhost_neighbourhood_Hyde Park                               1.379291  \ncalendar_updated_14 months ago                             1.345407  \nhost_location_Newport Beach, California, United...         1.339356  \nhost_neighbourhood_Jamaica Plain                           1.313189  ",
      "text/html": "<div>\n<style scoped>\n    .dataframe tbody tr th:only-of-type {\n        vertical-align: middle;\n    }\n\n    .dataframe tbody tr th {\n        vertical-align: top;\n    }\n\n    .dataframe thead th {\n        text-align: right;\n    }\n</style>\n<table border=\"1\" class=\"dataframe\">\n  <thead>\n    <tr style=\"text-align: right;\">\n      <th></th>\n      <th>coefficient</th>\n      <th>coefficient_abs</th>\n    </tr>\n  </thead>\n  <tbody>\n    <tr>\n      <th>calculated_host_listings_count</th>\n      <td>-5.831863</td>\n      <td>5.831863</td>\n    </tr>\n    <tr>\n      <th>neighbourhood_cleansed_Charlestown</th>\n      <td>4.772875</td>\n      <td>4.772875</td>\n    </tr>\n    <tr>\n      <th>zipcode_02129</th>\n      <td>-4.436439</td>\n      <td>4.436439</td>\n    </tr>\n    <tr>\n      <th>host_total_listings_count</th>\n      <td>2.986978</td>\n      <td>2.986978</td>\n    </tr>\n    <tr>\n      <th>host_listings_count</th>\n      <td>2.986978</td>\n      <td>2.986978</td>\n    </tr>\n    <tr>\n      <th>zipcode_02128</th>\n      <td>-2.701517</td>\n      <td>2.701517</td>\n    </tr>\n    <tr>\n      <th>host_acceptance_rate_45%</th>\n      <td>-2.131560</td>\n      <td>2.131560</td>\n    </tr>\n    <tr>\n      <th>calendar_updated_today</th>\n      <td>2.131516</td>\n      <td>2.131516</td>\n    </tr>\n    <tr>\n      <th>host_response_rate_79%</th>\n      <td>-1.748207</td>\n      <td>1.748207</td>\n    </tr>\n    <tr>\n      <th>neighbourhood_cleansed_Hyde Park</th>\n      <td>1.739552</td>\n      <td>1.739552</td>\n    </tr>\n    <tr>\n      <th>neighbourhood_cleansed_East Boston</th>\n      <td>1.698938</td>\n      <td>1.698938</td>\n    </tr>\n    <tr>\n      <th>host_response_rate_98%</th>\n      <td>-1.499234</td>\n      <td>1.499234</td>\n    </tr>\n    <tr>\n      <th>longitude</th>\n      <td>-1.468530</td>\n      <td>1.468530</td>\n    </tr>\n    <tr>\n      <th>price</th>\n      <td>1.431520</td>\n      <td>1.431520</td>\n    </tr>\n    <tr>\n      <th>neighbourhood_cleansed_Allston</th>\n      <td>-1.408141</td>\n      <td>1.408141</td>\n    </tr>\n    <tr>\n      <th>host_response_time_within an hour</th>\n      <td>-1.400997</td>\n      <td>1.400997</td>\n    </tr>\n    <tr>\n      <th>host_neighbourhood_Hyde Park</th>\n      <td>-1.379291</td>\n      <td>1.379291</td>\n    </tr>\n    <tr>\n      <th>calendar_updated_14 months ago</th>\n      <td>-1.345407</td>\n      <td>1.345407</td>\n    </tr>\n    <tr>\n      <th>host_location_Newport Beach, California, United States</th>\n      <td>-1.339356</td>\n      <td>1.339356</td>\n    </tr>\n    <tr>\n      <th>host_neighbourhood_Jamaica Plain</th>\n      <td>1.313189</td>\n      <td>1.313189</td>\n    </tr>\n  </tbody>\n</table>\n</div>"
     },
     "execution_count": 55,
     "metadata": {},
     "output_type": "execute_result"
    }
   ],
   "source": [
    "bos_coeff_vals = pd.DataFrame(bos_pipeline.steps[-1][-1].coef_, index=X.columns, columns=['coefficient'])\n",
    "bos_coeff_vals['coefficient_abs']=np.abs(bos_coeff_vals['coefficient'])\n",
    "bos_coeff_vals.sort_values(by='coefficient_abs', ascending=False).head(20)"
   ],
   "metadata": {
    "collapsed": false,
    "pycharm": {
     "name": "#%%\n"
    }
   }
  },
  {
   "cell_type": "code",
   "execution_count": 56,
   "outputs": [
    {
     "data": {
      "text/plain": "                                       coefficient  coefficient_abs\nhost_location_Berlin, Berlin, Germany     2.335167         2.335167\nzipcode_12524                             2.116516         2.116516\nlatitude                                  1.968155         1.968155\nneighbourhood_cleansed_Altglienicke      -1.796077         1.796077\nhost_neighbourhood_nan                   -1.440220         1.440220\nhost_location_DE                          1.320714         1.320714\nneighbourhood_cleansed_Bohnsdorf         -1.236629         1.236629\nhost_neighbourhood_Neukölln              -1.073800         1.073800\nproperty_type_Apartment                   1.055109         1.055109\nhost_neighbourhood_Prenzlauer Berg       -1.021524         1.021524\nhost_neighbourhood_Mitte                 -0.971088         0.971088\nhost_neighbourhood_Wedding               -0.847567         0.847567\nhost_neighbourhood_Kreuzberg             -0.800429         0.800429\navailability_60                          -0.786550         0.786550\nhost_neighbourhood_Friedrichshain        -0.785922         0.785922\nneighbourhood_cleansed_Drakestr.          0.749830         0.749830\nzipcode_12555                             0.743342         0.743342\nstate_Berlin                              0.687761         0.687761\nzipcode_13127                            -0.685803         0.685803\nproperty_type_Loft                        0.676252         0.676252",
      "text/html": "<div>\n<style scoped>\n    .dataframe tbody tr th:only-of-type {\n        vertical-align: middle;\n    }\n\n    .dataframe tbody tr th {\n        vertical-align: top;\n    }\n\n    .dataframe thead th {\n        text-align: right;\n    }\n</style>\n<table border=\"1\" class=\"dataframe\">\n  <thead>\n    <tr style=\"text-align: right;\">\n      <th></th>\n      <th>coefficient</th>\n      <th>coefficient_abs</th>\n    </tr>\n  </thead>\n  <tbody>\n    <tr>\n      <th>host_location_Berlin, Berlin, Germany</th>\n      <td>2.335167</td>\n      <td>2.335167</td>\n    </tr>\n    <tr>\n      <th>zipcode_12524</th>\n      <td>2.116516</td>\n      <td>2.116516</td>\n    </tr>\n    <tr>\n      <th>latitude</th>\n      <td>1.968155</td>\n      <td>1.968155</td>\n    </tr>\n    <tr>\n      <th>neighbourhood_cleansed_Altglienicke</th>\n      <td>-1.796077</td>\n      <td>1.796077</td>\n    </tr>\n    <tr>\n      <th>host_neighbourhood_nan</th>\n      <td>-1.440220</td>\n      <td>1.440220</td>\n    </tr>\n    <tr>\n      <th>host_location_DE</th>\n      <td>1.320714</td>\n      <td>1.320714</td>\n    </tr>\n    <tr>\n      <th>neighbourhood_cleansed_Bohnsdorf</th>\n      <td>-1.236629</td>\n      <td>1.236629</td>\n    </tr>\n    <tr>\n      <th>host_neighbourhood_Neukölln</th>\n      <td>-1.073800</td>\n      <td>1.073800</td>\n    </tr>\n    <tr>\n      <th>property_type_Apartment</th>\n      <td>1.055109</td>\n      <td>1.055109</td>\n    </tr>\n    <tr>\n      <th>host_neighbourhood_Prenzlauer Berg</th>\n      <td>-1.021524</td>\n      <td>1.021524</td>\n    </tr>\n    <tr>\n      <th>host_neighbourhood_Mitte</th>\n      <td>-0.971088</td>\n      <td>0.971088</td>\n    </tr>\n    <tr>\n      <th>host_neighbourhood_Wedding</th>\n      <td>-0.847567</td>\n      <td>0.847567</td>\n    </tr>\n    <tr>\n      <th>host_neighbourhood_Kreuzberg</th>\n      <td>-0.800429</td>\n      <td>0.800429</td>\n    </tr>\n    <tr>\n      <th>availability_60</th>\n      <td>-0.786550</td>\n      <td>0.786550</td>\n    </tr>\n    <tr>\n      <th>host_neighbourhood_Friedrichshain</th>\n      <td>-0.785922</td>\n      <td>0.785922</td>\n    </tr>\n    <tr>\n      <th>neighbourhood_cleansed_Drakestr.</th>\n      <td>0.749830</td>\n      <td>0.749830</td>\n    </tr>\n    <tr>\n      <th>zipcode_12555</th>\n      <td>0.743342</td>\n      <td>0.743342</td>\n    </tr>\n    <tr>\n      <th>state_Berlin</th>\n      <td>0.687761</td>\n      <td>0.687761</td>\n    </tr>\n    <tr>\n      <th>zipcode_13127</th>\n      <td>-0.685803</td>\n      <td>0.685803</td>\n    </tr>\n    <tr>\n      <th>property_type_Loft</th>\n      <td>0.676252</td>\n      <td>0.676252</td>\n    </tr>\n  </tbody>\n</table>\n</div>"
     },
     "execution_count": 56,
     "metadata": {},
     "output_type": "execute_result"
    }
   ],
   "source": [
    "ber_coeff_vals = pd.DataFrame(ber_pipeline.steps[-1][-1].coef_, index=X.columns, columns=['coefficient'])\n",
    "ber_coeff_vals['coefficient_abs']=np.abs(ber_coeff_vals['coefficient'])\n",
    "ber_coeff_vals.sort_values(by='coefficient_abs', ascending=False).head(20)"
   ],
   "metadata": {
    "collapsed": false,
    "pycharm": {
     "name": "#%%\n"
    }
   }
  },
  {
   "cell_type": "code",
   "execution_count": 57,
   "outputs": [
    {
     "data": {
      "text/plain": "Tempelhofer Vorstadt        1325\nFrankfurter Allee Süd FK    1282\nAlexanderplatz              1091\nReuterstraße                1002\nRixdorf                      880\n                            ... \nAllende-Viertel                3\nNeu-Hohenschönhausen Süd       2\nRoxhill                        2\nMV 2                           1\nHellersdorf-Ost                1\nName: neighbourhood_cleansed, Length: 247, dtype: int64"
     },
     "execution_count": 57,
     "metadata": {},
     "output_type": "execute_result"
    }
   ],
   "source": [
    "listings['neighbourhood_cleansed'].value_counts()"
   ],
   "metadata": {
    "collapsed": false,
    "pycharm": {
     "name": "#%%\n"
    }
   }
  },
  {
   "cell_type": "code",
   "execution_count": 58,
   "metadata": {},
   "outputs": [
    {
     "data": {
      "text/plain": "Tempelhofer Vorstadt        1325\nFrankfurter Allee Süd FK    1282\nAlexanderplatz              1091\nReuterstraße                1002\nRixdorf                      880\n                            ... \nAllende-Viertel                3\nNeu-Hohenschönhausen Süd       2\nRoxhill                        2\nMV 2                           1\nHellersdorf-Ost                1\nName: neighbourhood_cleansed, Length: 247, dtype: int64"
     },
     "execution_count": 58,
     "metadata": {},
     "output_type": "execute_result"
    }
   ],
   "source": [
    "listings['neighbourhood_cleansed'].value_counts()"
   ]
  },
  {
   "cell_type": "code",
   "execution_count": 59,
   "metadata": {},
   "outputs": [
    {
     "name": "stdout",
     "output_type": "stream",
     "text": [
      "0    20935\n",
      "1     3171\n",
      "Name: source_Seattle, dtype: int64\n"
     ]
    },
    {
     "data": {
      "text/plain": "             id       scrape_id    host_id  host_listings_count  \\\n9272    2573342  20181107122246   12725295                  1.0   \n28785  28455588  20181107122246    1177232                  2.0   \n6651    7638689  20160104002432    5137566                  1.0   \n18768  17002284  20181107122246  113010563                  1.0   \n267    14428514  20160906204935   22475241                  1.0   \n20528  19156648  20181107122246   77202130                  1.0   \n11421   6275365  20181107122246   32607161                  1.0   \n2652    1327725  20160906204935    7205617                  1.0   \n21156  19806978  20181107122246    5889788                  2.0   \n27616  26948082  20181107122246  142029222                  1.0   \n\n       host_total_listings_count   latitude   longitude  accommodates  \\\n9272                         1.0  52.501482   13.423291             2   \n28785                        2.0  52.519154   13.458612             1   \n6651                         1.0  47.683665 -122.370858             6   \n18768                        1.0  52.479548   13.362635             4   \n267                          1.0  42.307311  -71.103397             1   \n20528                        1.0  52.530725   13.467069             2   \n11421                        1.0  52.514619   13.398147             2   \n2652                         1.0  42.345668  -71.139219             4   \n21156                        2.0  52.485475   13.444174             4   \n27616                        1.0  52.558464   13.393645             2   \n\n       bathrooms  bedrooms  ...  calendar_updated_never  \\\n9272         2.0       1.0  ...                       0   \n28785        1.0       1.0  ...                       0   \n6651         1.0       2.0  ...                       0   \n18768        1.0       2.0  ...                       0   \n267          1.0       1.0  ...                       0   \n20528        1.0       1.0  ...                       0   \n11421        1.5       1.0  ...                       0   \n2652         1.0       2.0  ...                       0   \n21156        1.0       1.0  ...                       0   \n27616        1.0       1.0  ...                       0   \n\n       calendar_updated_today  calendar_updated_yesterday  \\\n9272                        0                           0   \n28785                       0                           0   \n6651                        0                           0   \n18768                       0                           0   \n267                         0                           0   \n20528                       0                           0   \n11421                       0                           0   \n2652                        0                           0   \n21156                       0                           0   \n27616                       1                           0   \n\n       calendar_updated_nan  jurisdiction_names_nan  has_thumbnail_url  \\\n9272                      0                       1                  1   \n28785                     0                       1                  1   \n6651                      0                       0                  1   \n18768                     0                       1                  1   \n267                       0                       1                  1   \n20528                     0                       1                  1   \n11421                     0                       1                  1   \n2652                      0                       1                  1   \n21156                     0                       1                  1   \n27616                     0                       1                  1   \n\n       has_medium_url  has_xl_picture_url  has_host_thumbnail_url  \\\n9272                1                   1                       1   \n28785               1                   1                       1   \n6651                1                   1                       1   \n18768               1                   1                       1   \n267                 1                   1                       1   \n20528               1                   1                       1   \n11421               1                   1                       1   \n2652                1                   1                       1   \n21156               1                   1                       1   \n27616               1                   1                       1   \n\n       has_host_picture_url  \n9272                      1  \n28785                     1  \n6651                      1  \n18768                     1  \n267                       1  \n20528                     1  \n11421                     1  \n2652                      1  \n21156                     1  \n27616                     1  \n\n[10 rows x 2390 columns]",
      "text/html": "<div>\n<style scoped>\n    .dataframe tbody tr th:only-of-type {\n        vertical-align: middle;\n    }\n\n    .dataframe tbody tr th {\n        vertical-align: top;\n    }\n\n    .dataframe thead th {\n        text-align: right;\n    }\n</style>\n<table border=\"1\" class=\"dataframe\">\n  <thead>\n    <tr style=\"text-align: right;\">\n      <th></th>\n      <th>id</th>\n      <th>scrape_id</th>\n      <th>host_id</th>\n      <th>host_listings_count</th>\n      <th>host_total_listings_count</th>\n      <th>latitude</th>\n      <th>longitude</th>\n      <th>accommodates</th>\n      <th>bathrooms</th>\n      <th>bedrooms</th>\n      <th>...</th>\n      <th>calendar_updated_never</th>\n      <th>calendar_updated_today</th>\n      <th>calendar_updated_yesterday</th>\n      <th>calendar_updated_nan</th>\n      <th>jurisdiction_names_nan</th>\n      <th>has_thumbnail_url</th>\n      <th>has_medium_url</th>\n      <th>has_xl_picture_url</th>\n      <th>has_host_thumbnail_url</th>\n      <th>has_host_picture_url</th>\n    </tr>\n  </thead>\n  <tbody>\n    <tr>\n      <th>9272</th>\n      <td>2573342</td>\n      <td>20181107122246</td>\n      <td>12725295</td>\n      <td>1.0</td>\n      <td>1.0</td>\n      <td>52.501482</td>\n      <td>13.423291</td>\n      <td>2</td>\n      <td>2.0</td>\n      <td>1.0</td>\n      <td>...</td>\n      <td>0</td>\n      <td>0</td>\n      <td>0</td>\n      <td>0</td>\n      <td>1</td>\n      <td>1</td>\n      <td>1</td>\n      <td>1</td>\n      <td>1</td>\n      <td>1</td>\n    </tr>\n    <tr>\n      <th>28785</th>\n      <td>28455588</td>\n      <td>20181107122246</td>\n      <td>1177232</td>\n      <td>2.0</td>\n      <td>2.0</td>\n      <td>52.519154</td>\n      <td>13.458612</td>\n      <td>1</td>\n      <td>1.0</td>\n      <td>1.0</td>\n      <td>...</td>\n      <td>0</td>\n      <td>0</td>\n      <td>0</td>\n      <td>0</td>\n      <td>1</td>\n      <td>1</td>\n      <td>1</td>\n      <td>1</td>\n      <td>1</td>\n      <td>1</td>\n    </tr>\n    <tr>\n      <th>6651</th>\n      <td>7638689</td>\n      <td>20160104002432</td>\n      <td>5137566</td>\n      <td>1.0</td>\n      <td>1.0</td>\n      <td>47.683665</td>\n      <td>-122.370858</td>\n      <td>6</td>\n      <td>1.0</td>\n      <td>2.0</td>\n      <td>...</td>\n      <td>0</td>\n      <td>0</td>\n      <td>0</td>\n      <td>0</td>\n      <td>0</td>\n      <td>1</td>\n      <td>1</td>\n      <td>1</td>\n      <td>1</td>\n      <td>1</td>\n    </tr>\n    <tr>\n      <th>18768</th>\n      <td>17002284</td>\n      <td>20181107122246</td>\n      <td>113010563</td>\n      <td>1.0</td>\n      <td>1.0</td>\n      <td>52.479548</td>\n      <td>13.362635</td>\n      <td>4</td>\n      <td>1.0</td>\n      <td>2.0</td>\n      <td>...</td>\n      <td>0</td>\n      <td>0</td>\n      <td>0</td>\n      <td>0</td>\n      <td>1</td>\n      <td>1</td>\n      <td>1</td>\n      <td>1</td>\n      <td>1</td>\n      <td>1</td>\n    </tr>\n    <tr>\n      <th>267</th>\n      <td>14428514</td>\n      <td>20160906204935</td>\n      <td>22475241</td>\n      <td>1.0</td>\n      <td>1.0</td>\n      <td>42.307311</td>\n      <td>-71.103397</td>\n      <td>1</td>\n      <td>1.0</td>\n      <td>1.0</td>\n      <td>...</td>\n      <td>0</td>\n      <td>0</td>\n      <td>0</td>\n      <td>0</td>\n      <td>1</td>\n      <td>1</td>\n      <td>1</td>\n      <td>1</td>\n      <td>1</td>\n      <td>1</td>\n    </tr>\n    <tr>\n      <th>20528</th>\n      <td>19156648</td>\n      <td>20181107122246</td>\n      <td>77202130</td>\n      <td>1.0</td>\n      <td>1.0</td>\n      <td>52.530725</td>\n      <td>13.467069</td>\n      <td>2</td>\n      <td>1.0</td>\n      <td>1.0</td>\n      <td>...</td>\n      <td>0</td>\n      <td>0</td>\n      <td>0</td>\n      <td>0</td>\n      <td>1</td>\n      <td>1</td>\n      <td>1</td>\n      <td>1</td>\n      <td>1</td>\n      <td>1</td>\n    </tr>\n    <tr>\n      <th>11421</th>\n      <td>6275365</td>\n      <td>20181107122246</td>\n      <td>32607161</td>\n      <td>1.0</td>\n      <td>1.0</td>\n      <td>52.514619</td>\n      <td>13.398147</td>\n      <td>2</td>\n      <td>1.5</td>\n      <td>1.0</td>\n      <td>...</td>\n      <td>0</td>\n      <td>0</td>\n      <td>0</td>\n      <td>0</td>\n      <td>1</td>\n      <td>1</td>\n      <td>1</td>\n      <td>1</td>\n      <td>1</td>\n      <td>1</td>\n    </tr>\n    <tr>\n      <th>2652</th>\n      <td>1327725</td>\n      <td>20160906204935</td>\n      <td>7205617</td>\n      <td>1.0</td>\n      <td>1.0</td>\n      <td>42.345668</td>\n      <td>-71.139219</td>\n      <td>4</td>\n      <td>1.0</td>\n      <td>2.0</td>\n      <td>...</td>\n      <td>0</td>\n      <td>0</td>\n      <td>0</td>\n      <td>0</td>\n      <td>1</td>\n      <td>1</td>\n      <td>1</td>\n      <td>1</td>\n      <td>1</td>\n      <td>1</td>\n    </tr>\n    <tr>\n      <th>21156</th>\n      <td>19806978</td>\n      <td>20181107122246</td>\n      <td>5889788</td>\n      <td>2.0</td>\n      <td>2.0</td>\n      <td>52.485475</td>\n      <td>13.444174</td>\n      <td>4</td>\n      <td>1.0</td>\n      <td>1.0</td>\n      <td>...</td>\n      <td>0</td>\n      <td>0</td>\n      <td>0</td>\n      <td>0</td>\n      <td>1</td>\n      <td>1</td>\n      <td>1</td>\n      <td>1</td>\n      <td>1</td>\n      <td>1</td>\n    </tr>\n    <tr>\n      <th>27616</th>\n      <td>26948082</td>\n      <td>20181107122246</td>\n      <td>142029222</td>\n      <td>1.0</td>\n      <td>1.0</td>\n      <td>52.558464</td>\n      <td>13.393645</td>\n      <td>2</td>\n      <td>1.0</td>\n      <td>1.0</td>\n      <td>...</td>\n      <td>0</td>\n      <td>1</td>\n      <td>0</td>\n      <td>0</td>\n      <td>1</td>\n      <td>1</td>\n      <td>1</td>\n      <td>1</td>\n      <td>1</td>\n      <td>1</td>\n    </tr>\n  </tbody>\n</table>\n<p>10 rows × 2390 columns</p>\n</div>"
     },
     "execution_count": 59,
     "metadata": {},
     "output_type": "execute_result"
    }
   ],
   "source": [
    "X, y = fit_prepare(listings, 'review_scores_rating', listings_numeric, listings_categorical, listings_presence)\n",
    "X.drop([col for col in X.columns if 'review_scores' in col], inplace=True, axis=1)\n",
    "print(X['source_Seattle'].value_counts())\n",
    "X.sample(10)"
   ]
  },
  {
   "cell_type": "code",
   "execution_count": 60,
   "metadata": {},
   "outputs": [],
   "source": [
    "X_train, X_test, y_train, y_test = train_test_split(X, y, test_size=0.2, random_state=23 * 42)\n",
    "\n",
    "pipeline = Pipeline([\n",
    "    ('norm', StandardScaler()),\n",
    "    ('model', Ridge())\n",
    "])\n",
    "alphas = np.logspace(-7, -1, 16)\n",
    "\n",
    "PCV = GridSearchCV(pipeline, {'model__alpha': alphas}, n_jobs=-1)"
   ]
  },
  {
   "cell_type": "code",
   "execution_count": 61,
   "metadata": {
    "scrolled": false
   },
   "outputs": [],
   "source": [
    "pcvf = PCV.fit(X_train, y_train)\n",
    "#pcvf = PCV.fit(X, y)"
   ]
  },
  {
   "cell_type": "code",
   "execution_count": 62,
   "metadata": {},
   "outputs": [
    {
     "data": {
      "text/plain": "{'model__alpha': 0.1}"
     },
     "execution_count": 62,
     "metadata": {},
     "output_type": "execute_result"
    }
   ],
   "source": [
    "pcvf.best_params_"
   ]
  },
  {
   "cell_type": "code",
   "execution_count": 63,
   "metadata": {},
   "outputs": [
    {
     "name": "stdout",
     "output_type": "stream",
     "text": [
      "train score: 0.22579558148621026  | test score: -0.003127172660233102\n"
     ]
    }
   ],
   "source": [
    "esti = pcvf.best_estimator_\n",
    "print('train score: {}  | test score: {}'.format(esti.score(X_train, y_train), esti.score(X_test, y_test)))"
   ]
  },
  {
   "cell_type": "code",
   "execution_count": 64,
   "metadata": {},
   "outputs": [],
   "source": [
    "coeff = esti.steps[-1][1].coef_"
   ]
  },
  {
   "cell_type": "code",
   "execution_count": 65,
   "metadata": {},
   "outputs": [
    {
     "data": {
      "text/plain": "<matplotlib.legend.Legend at 0x1c1fdb59d68>"
     },
     "execution_count": 65,
     "metadata": {},
     "output_type": "execute_result"
    },
    {
     "data": {
      "text/plain": "<Figure size 432x288 with 1 Axes>",
      "image/png": "[encoded data removed]"
     },
     "metadata": {},
     "output_type": "display_data"
    }
   ],
   "source": [
    "plt.scatter(esti.predict(X_train), y_train, label='train')\n",
    "plt.scatter(esti.predict(X_test), y_test, label='test')\n",
    "limmin = min(plt.xlim()[0], plt.ylim()[0])\n",
    "limmax = max(plt.xlim()[1], plt.ylim()[1])\n",
    "plt.xlim((limmin, limmax))\n",
    "plt.ylim((limmin, limmax))\n",
    "plt.xlabel('predicted')\n",
    "plt.ylabel('actual')\n",
    "plt.legend(loc='best')"
   ]
  },
  {
   "cell_type": "code",
   "execution_count": 66,
   "metadata": {},
   "outputs": [
    {
     "data": {
      "text/plain": "                                                    coefficient  \\\nlatitude                                              13.163913   \nstate_Berlin                                           3.956574   \nhost_location_Berlin, Berlin, Germany                  2.802919   \nscrape_id                                             -1.950315   \nneighbourhood_group_cleansed_nan                       1.924221   \nstate_MA                                               1.924221   \nsource_Boston                                          1.924221   \ncity_Boston                                            1.853929   \nsmart_location_Boston, MA                              1.853929   \ncalculated_host_listings_count                        -1.796771   \nneighbourhood_cleansed_Charlestown                     1.778691   \nhost_location_Seattle, Washington, United States       1.642135   \nhost_location_Boston, Massachusetts, United States     1.341518   \nzipcode_02129                                         -1.303828   \nhost_neighbourhood_nan                                -1.204513   \nsmart_location_Berlin, Germany                        -1.140375   \ncity_Berlin                                           -1.137037   \nhost_location_DE                                       1.112235   \navailability_60                                       -1.008961   \nhost_acceptance_rate_55%                               0.908111   \n\n                                                    coefficient_abs  \nlatitude                                                  13.163913  \nstate_Berlin                                               3.956574  \nhost_location_Berlin, Berlin, Germany                      2.802919  \nscrape_id                                                  1.950315  \nneighbourhood_group_cleansed_nan                           1.924221  \nstate_MA                                                   1.924221  \nsource_Boston                                              1.924221  \ncity_Boston                                                1.853929  \nsmart_location_Boston, MA                                  1.853929  \ncalculated_host_listings_count                             1.796771  \nneighbourhood_cleansed_Charlestown                         1.778691  \nhost_location_Seattle, Washington, United States           1.642135  \nhost_location_Boston, Massachusetts, United States         1.341518  \nzipcode_02129                                              1.303828  \nhost_neighbourhood_nan                                     1.204513  \nsmart_location_Berlin, Germany                             1.140375  \ncity_Berlin                                                1.137037  \nhost_location_DE                                           1.112235  \navailability_60                                            1.008961  \nhost_acceptance_rate_55%                                   0.908111  ",
      "text/html": "<div>\n<style scoped>\n    .dataframe tbody tr th:only-of-type {\n        vertical-align: middle;\n    }\n\n    .dataframe tbody tr th {\n        vertical-align: top;\n    }\n\n    .dataframe thead th {\n        text-align: right;\n    }\n</style>\n<table border=\"1\" class=\"dataframe\">\n  <thead>\n    <tr style=\"text-align: right;\">\n      <th></th>\n      <th>coefficient</th>\n      <th>coefficient_abs</th>\n    </tr>\n  </thead>\n  <tbody>\n    <tr>\n      <th>latitude</th>\n      <td>13.163913</td>\n      <td>13.163913</td>\n    </tr>\n    <tr>\n      <th>state_Berlin</th>\n      <td>3.956574</td>\n      <td>3.956574</td>\n    </tr>\n    <tr>\n      <th>host_location_Berlin, Berlin, Germany</th>\n      <td>2.802919</td>\n      <td>2.802919</td>\n    </tr>\n    <tr>\n      <th>scrape_id</th>\n      <td>-1.950315</td>\n      <td>1.950315</td>\n    </tr>\n    <tr>\n      <th>neighbourhood_group_cleansed_nan</th>\n      <td>1.924221</td>\n      <td>1.924221</td>\n    </tr>\n    <tr>\n      <th>state_MA</th>\n      <td>1.924221</td>\n      <td>1.924221</td>\n    </tr>\n    <tr>\n      <th>source_Boston</th>\n      <td>1.924221</td>\n      <td>1.924221</td>\n    </tr>\n    <tr>\n      <th>city_Boston</th>\n      <td>1.853929</td>\n      <td>1.853929</td>\n    </tr>\n    <tr>\n      <th>smart_location_Boston, MA</th>\n      <td>1.853929</td>\n      <td>1.853929</td>\n    </tr>\n    <tr>\n      <th>calculated_host_listings_count</th>\n      <td>-1.796771</td>\n      <td>1.796771</td>\n    </tr>\n    <tr>\n      <th>neighbourhood_cleansed_Charlestown</th>\n      <td>1.778691</td>\n      <td>1.778691</td>\n    </tr>\n    <tr>\n      <th>host_location_Seattle, Washington, United States</th>\n      <td>1.642135</td>\n      <td>1.642135</td>\n    </tr>\n    <tr>\n      <th>host_location_Boston, Massachusetts, United States</th>\n      <td>1.341518</td>\n      <td>1.341518</td>\n    </tr>\n    <tr>\n      <th>zipcode_02129</th>\n      <td>-1.303828</td>\n      <td>1.303828</td>\n    </tr>\n    <tr>\n      <th>host_neighbourhood_nan</th>\n      <td>-1.204513</td>\n      <td>1.204513</td>\n    </tr>\n    <tr>\n      <th>smart_location_Berlin, Germany</th>\n      <td>-1.140375</td>\n      <td>1.140375</td>\n    </tr>\n    <tr>\n      <th>city_Berlin</th>\n      <td>-1.137037</td>\n      <td>1.137037</td>\n    </tr>\n    <tr>\n      <th>host_location_DE</th>\n      <td>1.112235</td>\n      <td>1.112235</td>\n    </tr>\n    <tr>\n      <th>availability_60</th>\n      <td>-1.008961</td>\n      <td>1.008961</td>\n    </tr>\n    <tr>\n      <th>host_acceptance_rate_55%</th>\n      <td>0.908111</td>\n      <td>0.908111</td>\n    </tr>\n  </tbody>\n</table>\n</div>"
     },
     "execution_count": 66,
     "metadata": {},
     "output_type": "execute_result"
    },
    {
     "data": {
      "text/plain": "<Figure size 432x288 with 1 Axes>",
      "image/png": "[encoded data removed]"
     },
     "metadata": {},
     "output_type": "display_data"
    }
   ],
   "source": [
    "plt.plot(coeff)\n",
    "coeff_vals = pd.DataFrame(coeff, index=X.columns, columns=['coefficient'])\n",
    "coeff_vals['coefficient_abs']=np.abs(coeff_vals['coefficient'])\n",
    "coeff_vals.sort_values(by='coefficient_abs', ascending=False).head(20)"
   ]
  },
  {
   "cell_type": "code",
   "execution_count": 67,
   "metadata": {},
   "outputs": [
    {
     "name": "stdout",
     "output_type": "stream",
     "text": [
      "(3171, 2390) (3171,) (2772, 2390) (2772,) (18163, 2390) (18163,)\n"
     ]
    }
   ],
   "source": [
    "X_sea = X[X['source_Seattle'] == 1]\n",
    "y_sea = y.loc[X_sea.index]\n",
    "X_bos = X[X['source_Boston'] == 1]\n",
    "y_bos = y.loc[X_bos.index]\n",
    "X_ber = X[X['source_Boston'] == X['source_Seattle']]\n",
    "y_ber = y.loc[X_ber.index]\n",
    "print(X_sea.shape, y_sea.shape, X_bos.shape, y_bos.shape, X_ber.shape, y_ber.shape)"
   ]
  },
  {
   "cell_type": "code",
   "execution_count": 68,
   "metadata": {},
   "outputs": [
    {
     "name": "stdout",
     "output_type": "stream",
     "text": [
      "{'model__alpha': 0.1}\n",
      "Seattle:: train score: 0.2942399327103503  | test score: 0.015741458094922556\n",
      "Boston::  train score: 0.37432183595662627  | test score: -0.08091547309927605\n",
      "Berlin::  train score: 0.20243423390373816  | test score: -0.08010662897339871\n"
     ]
    },
    {
     "data": {
      "text/plain": "<matplotlib.legend.Legend at 0x1c18bf55d68>"
     },
     "execution_count": 68,
     "metadata": {},
     "output_type": "execute_result"
    },
    {
     "data": {
      "text/plain": "<Figure size 432x288 with 1 Axes>",
      "image/png": "[encoded data removed]"
     },
     "metadata": {},
     "output_type": "display_data"
    }
   ],
   "source": [
    "X_sea_train, X_sea_test, y_sea_train, y_sea_test = train_test_split(X_sea, y_sea, test_size=0.1, random_state=23 * 42)\n",
    "sea_pipeline = Pipeline([\n",
    "    ('norm', StandardScaler()),\n",
    "    ('model', Ridge(alpha=0.001))\n",
    "])\n",
    "\n",
    "sea_PCV = GridSearchCV(pipeline, {'model__alpha': alphas}, n_jobs=-1)\n",
    "sea_PCV_f = sea_PCV.fit(X_sea_train, y_sea_train)\n",
    "print(sea_PCV_f.best_params_)\n",
    "\n",
    "X_bos_train, X_bos_test, y_bos_train, y_bos_test = train_test_split(X_bos, y_bos, test_size=0.1, random_state=23 * 42)\n",
    "bos_pipeline = Pipeline([\n",
    "    ('norm', StandardScaler()),\n",
    "    ('model', Ridge(alpha=sea_PCV_f.best_params_['model__alpha']))\n",
    "])\n",
    "\n",
    "X_ber_train, X_ber_test, y_ber_train, y_ber_test = train_test_split(X_ber, y_ber, test_size=0.1, random_state=23 * 42)\n",
    "ber_pipeline = Pipeline([\n",
    "    ('norm', StandardScaler()),\n",
    "    ('model', Ridge(alpha=sea_PCV_f.best_params_['model__alpha']))\n",
    "])\n",
    "\n",
    "\n",
    "sea_pipeline.fit(X_sea_train, y_sea_train)\n",
    "print('Seattle:: train score: {}  | test score: {}'.format(sea_pipeline.score(X_sea_train, y_sea_train), sea_pipeline.score(X_sea_test, y_sea_test)))\n",
    "\n",
    "bos_pipeline.fit(X_bos_train, y_bos_train)\n",
    "print('Boston::  train score: {}  | test score: {}'.format(bos_pipeline.score(X_bos_train, y_bos_train), bos_pipeline.score(X_bos_test, y_bos_test)))\n",
    "\n",
    "ber_pipeline.fit(X_ber_train, y_ber_train)\n",
    "print('Berlin::  train score: {}  | test score: {}'.format(ber_pipeline.score(X_ber_train, y_ber_train), ber_pipeline.score(X_ber_test, y_ber_test)))\n",
    "\n",
    "plt.scatter(sea_pipeline.predict(X_sea_train), y_sea_train, label='Seattle train')\n",
    "plt.scatter(sea_pipeline.predict(X_sea_test), y_sea_test, label='Seattle test')\n",
    "plt.scatter(bos_pipeline.predict(X_bos_train), y_bos_train, label='Boston train')\n",
    "plt.scatter(bos_pipeline.predict(X_bos_test), y_bos_test, label='Boston test')\n",
    "plt.scatter(ber_pipeline.predict(X_ber_train), y_ber_train, label='Berlin train')\n",
    "plt.scatter(ber_pipeline.predict(X_ber_test), y_ber_test, label='Berlin test')\n",
    "\n",
    "limmin = min(plt.xlim()[0], plt.ylim()[0])\n",
    "limmax = max(plt.xlim()[1], plt.ylim()[1])\n",
    "plt.xlim((limmin, limmax))\n",
    "plt.ylim((limmin, limmax))\n",
    "plt.xlabel('predicted')\n",
    "plt.ylabel('actual')\n",
    "plt.legend(loc='best')"
   ]
  },
  {
   "cell_type": "code",
   "execution_count": 69,
   "metadata": {},
   "outputs": [
    {
     "data": {
      "text/plain": "                                       coefficient  coefficient_abs\ncalculated_host_listings_count           -1.500606         1.500606\navailability_60                          -1.486744         1.486744\nhost_neighbourhood_Fenway/Kenmore        -1.168987         1.168987\nprice                                     1.088717         1.088717\navailability_90                           1.080238         1.080238\nhost_neighbourhood_Eastlake               1.001407         1.001407\nhost_response_rate_40%                   -0.992503         0.992503\nzipcode_98199                             0.978281         0.978281\nneighbourhood_cleansed_Eastlake          -0.956843         0.956843\nzipcode_98121                            -0.803424         0.803424\nhost_neighbourhood_Ravenna               -0.735850         0.735850\ncalendar_updated_4 months ago            -0.714339         0.714339\nzipcode_98101                            -0.703063         0.703063\nhost_neighbourhood_North Admiral         -0.675126         0.675126\nneighbourhood_cleansed_Westlake           0.647756         0.647756\nneighbourhood_group_cleansed_Magnolia    -0.647738         0.647738\nneighbourhood_cleansed_Green Lake        -0.641200         0.641200\nzipcode_98115                             0.627738         0.627738\ncalendar_updated_9 months ago            -0.597889         0.597889\naccommodates                             -0.596609         0.596609",
      "text/html": "<div>\n<style scoped>\n    .dataframe tbody tr th:only-of-type {\n        vertical-align: middle;\n    }\n\n    .dataframe tbody tr th {\n        vertical-align: top;\n    }\n\n    .dataframe thead th {\n        text-align: right;\n    }\n</style>\n<table border=\"1\" class=\"dataframe\">\n  <thead>\n    <tr style=\"text-align: right;\">\n      <th></th>\n      <th>coefficient</th>\n      <th>coefficient_abs</th>\n    </tr>\n  </thead>\n  <tbody>\n    <tr>\n      <th>calculated_host_listings_count</th>\n      <td>-1.500606</td>\n      <td>1.500606</td>\n    </tr>\n    <tr>\n      <th>availability_60</th>\n      <td>-1.486744</td>\n      <td>1.486744</td>\n    </tr>\n    <tr>\n      <th>host_neighbourhood_Fenway/Kenmore</th>\n      <td>-1.168987</td>\n      <td>1.168987</td>\n    </tr>\n    <tr>\n      <th>price</th>\n      <td>1.088717</td>\n      <td>1.088717</td>\n    </tr>\n    <tr>\n      <th>availability_90</th>\n      <td>1.080238</td>\n      <td>1.080238</td>\n    </tr>\n    <tr>\n      <th>host_neighbourhood_Eastlake</th>\n      <td>1.001407</td>\n      <td>1.001407</td>\n    </tr>\n    <tr>\n      <th>host_response_rate_40%</th>\n      <td>-0.992503</td>\n      <td>0.992503</td>\n    </tr>\n    <tr>\n      <th>zipcode_98199</th>\n      <td>0.978281</td>\n      <td>0.978281</td>\n    </tr>\n    <tr>\n      <th>neighbourhood_cleansed_Eastlake</th>\n      <td>-0.956843</td>\n      <td>0.956843</td>\n    </tr>\n    <tr>\n      <th>zipcode_98121</th>\n      <td>-0.803424</td>\n      <td>0.803424</td>\n    </tr>\n    <tr>\n      <th>host_neighbourhood_Ravenna</th>\n      <td>-0.735850</td>\n      <td>0.735850</td>\n    </tr>\n    <tr>\n      <th>calendar_updated_4 months ago</th>\n      <td>-0.714339</td>\n      <td>0.714339</td>\n    </tr>\n    <tr>\n      <th>zipcode_98101</th>\n      <td>-0.703063</td>\n      <td>0.703063</td>\n    </tr>\n    <tr>\n      <th>host_neighbourhood_North Admiral</th>\n      <td>-0.675126</td>\n      <td>0.675126</td>\n    </tr>\n    <tr>\n      <th>neighbourhood_cleansed_Westlake</th>\n      <td>0.647756</td>\n      <td>0.647756</td>\n    </tr>\n    <tr>\n      <th>neighbourhood_group_cleansed_Magnolia</th>\n      <td>-0.647738</td>\n      <td>0.647738</td>\n    </tr>\n    <tr>\n      <th>neighbourhood_cleansed_Green Lake</th>\n      <td>-0.641200</td>\n      <td>0.641200</td>\n    </tr>\n    <tr>\n      <th>zipcode_98115</th>\n      <td>0.627738</td>\n      <td>0.627738</td>\n    </tr>\n    <tr>\n      <th>calendar_updated_9 months ago</th>\n      <td>-0.597889</td>\n      <td>0.597889</td>\n    </tr>\n    <tr>\n      <th>accommodates</th>\n      <td>-0.596609</td>\n      <td>0.596609</td>\n    </tr>\n  </tbody>\n</table>\n</div>"
     },
     "execution_count": 69,
     "metadata": {},
     "output_type": "execute_result"
    },
    {
     "data": {
      "text/plain": "<Figure size 432x288 with 1 Axes>",
      "image/png": "[encoded data removed]"
     },
     "metadata": {},
     "output_type": "display_data"
    }
   ],
   "source": [
    "plt.plot(sea_pipeline.steps[-1][-1].coef_, label='Seattle')\n",
    "plt.plot(bos_pipeline.steps[-1][-1].coef_, label='Boston')\n",
    "sea_coeff_vals = pd.DataFrame(sea_pipeline.steps[-1][-1].coef_, index=X.columns, columns=['coefficient'])\n",
    "sea_coeff_vals['coefficient_abs']=np.abs(sea_coeff_vals['coefficient'])\n",
    "sea_coeff_vals.sort_values(by='coefficient_abs', ascending=False).head(20)"
   ]
  },
  {
   "cell_type": "code",
   "execution_count": 70,
   "metadata": {},
   "outputs": [
    {
     "data": {
      "text/plain": "                                                    coefficient  \\\ncalculated_host_listings_count                        -5.831863   \nneighbourhood_cleansed_Charlestown                     4.772875   \nzipcode_02129                                         -4.436439   \nhost_total_listings_count                              2.986978   \nhost_listings_count                                    2.986978   \nzipcode_02128                                         -2.701517   \nhost_acceptance_rate_45%                              -2.131560   \ncalendar_updated_today                                 2.131516   \nhost_response_rate_79%                                -1.748207   \nneighbourhood_cleansed_Hyde Park                       1.739552   \nneighbourhood_cleansed_East Boston                     1.698938   \nhost_response_rate_98%                                -1.499234   \nlongitude                                             -1.468530   \nprice                                                  1.431520   \nneighbourhood_cleansed_Allston                        -1.408141   \nhost_response_time_within an hour                     -1.400997   \nhost_neighbourhood_Hyde Park                          -1.379291   \ncalendar_updated_14 months ago                        -1.345407   \nhost_location_Newport Beach, California, United...    -1.339356   \nhost_neighbourhood_Jamaica Plain                       1.313189   \n\n                                                    coefficient_abs  \ncalculated_host_listings_count                             5.831863  \nneighbourhood_cleansed_Charlestown                         4.772875  \nzipcode_02129                                              4.436439  \nhost_total_listings_count                                  2.986978  \nhost_listings_count                                        2.986978  \nzipcode_02128                                              2.701517  \nhost_acceptance_rate_45%                                   2.131560  \ncalendar_updated_today                                     2.131516  \nhost_response_rate_79%                                     1.748207  \nneighbourhood_cleansed_Hyde Park                           1.739552  \nneighbourhood_cleansed_East Boston                         1.698938  \nhost_response_rate_98%                                     1.499234  \nlongitude                                                  1.468530  \nprice                                                      1.431520  \nneighbourhood_cleansed_Allston                             1.408141  \nhost_response_time_within an hour                          1.400997  \nhost_neighbourhood_Hyde Park                               1.379291  \ncalendar_updated_14 months ago                             1.345407  \nhost_location_Newport Beach, California, United...         1.339356  \nhost_neighbourhood_Jamaica Plain                           1.313189  ",
      "text/html": "<div>\n<style scoped>\n    .dataframe tbody tr th:only-of-type {\n        vertical-align: middle;\n    }\n\n    .dataframe tbody tr th {\n        vertical-align: top;\n    }\n\n    .dataframe thead th {\n        text-align: right;\n    }\n</style>\n<table border=\"1\" class=\"dataframe\">\n  <thead>\n    <tr style=\"text-align: right;\">\n      <th></th>\n      <th>coefficient</th>\n      <th>coefficient_abs</th>\n    </tr>\n  </thead>\n  <tbody>\n    <tr>\n      <th>calculated_host_listings_count</th>\n      <td>-5.831863</td>\n      <td>5.831863</td>\n    </tr>\n    <tr>\n      <th>neighbourhood_cleansed_Charlestown</th>\n      <td>4.772875</td>\n      <td>4.772875</td>\n    </tr>\n    <tr>\n      <th>zipcode_02129</th>\n      <td>-4.436439</td>\n      <td>4.436439</td>\n    </tr>\n    <tr>\n      <th>host_total_listings_count</th>\n      <td>2.986978</td>\n      <td>2.986978</td>\n    </tr>\n    <tr>\n      <th>host_listings_count</th>\n      <td>2.986978</td>\n      <td>2.986978</td>\n    </tr>\n    <tr>\n      <th>zipcode_02128</th>\n      <td>-2.701517</td>\n      <td>2.701517</td>\n    </tr>\n    <tr>\n      <th>host_acceptance_rate_45%</th>\n      <td>-2.131560</td>\n      <td>2.131560</td>\n    </tr>\n    <tr>\n      <th>calendar_updated_today</th>\n      <td>2.131516</td>\n      <td>2.131516</td>\n    </tr>\n    <tr>\n      <th>host_response_rate_79%</th>\n      <td>-1.748207</td>\n      <td>1.748207</td>\n    </tr>\n    <tr>\n      <th>neighbourhood_cleansed_Hyde Park</th>\n      <td>1.739552</td>\n      <td>1.739552</td>\n    </tr>\n    <tr>\n      <th>neighbourhood_cleansed_East Boston</th>\n      <td>1.698938</td>\n      <td>1.698938</td>\n    </tr>\n    <tr>\n      <th>host_response_rate_98%</th>\n      <td>-1.499234</td>\n      <td>1.499234</td>\n    </tr>\n    <tr>\n      <th>longitude</th>\n      <td>-1.468530</td>\n      <td>1.468530</td>\n    </tr>\n    <tr>\n      <th>price</th>\n      <td>1.431520</td>\n      <td>1.431520</td>\n    </tr>\n    <tr>\n      <th>neighbourhood_cleansed_Allston</th>\n      <td>-1.408141</td>\n      <td>1.408141</td>\n    </tr>\n    <tr>\n      <th>host_response_time_within an hour</th>\n      <td>-1.400997</td>\n      <td>1.400997</td>\n    </tr>\n    <tr>\n      <th>host_neighbourhood_Hyde Park</th>\n      <td>-1.379291</td>\n      <td>1.379291</td>\n    </tr>\n    <tr>\n      <th>calendar_updated_14 months ago</th>\n      <td>-1.345407</td>\n      <td>1.345407</td>\n    </tr>\n    <tr>\n      <th>host_location_Newport Beach, California, United States</th>\n      <td>-1.339356</td>\n      <td>1.339356</td>\n    </tr>\n    <tr>\n      <th>host_neighbourhood_Jamaica Plain</th>\n      <td>1.313189</td>\n      <td>1.313189</td>\n    </tr>\n  </tbody>\n</table>\n</div>"
     },
     "execution_count": 70,
     "metadata": {},
     "output_type": "execute_result"
    }
   ],
   "source": [
    "bos_coeff_vals = pd.DataFrame(bos_pipeline.steps[-1][-1].coef_, index=X.columns, columns=['coefficient'])\n",
    "bos_coeff_vals['coefficient_abs']=np.abs(bos_coeff_vals['coefficient'])\n",
    "bos_coeff_vals.sort_values(by='coefficient_abs', ascending=False).head(20)"
   ]
  },
  {
   "cell_type": "code",
   "execution_count": 71,
   "metadata": {},
   "outputs": [
    {
     "data": {
      "text/plain": "                                       coefficient  coefficient_abs\nhost_location_Berlin, Berlin, Germany     2.335167         2.335167\nzipcode_12524                             2.116516         2.116516\nlatitude                                  1.968155         1.968155\nneighbourhood_cleansed_Altglienicke      -1.796077         1.796077\nhost_neighbourhood_nan                   -1.440220         1.440220\nhost_location_DE                          1.320714         1.320714\nneighbourhood_cleansed_Bohnsdorf         -1.236629         1.236629\nhost_neighbourhood_Neukölln              -1.073800         1.073800\nproperty_type_Apartment                   1.055109         1.055109\nhost_neighbourhood_Prenzlauer Berg       -1.021524         1.021524\nhost_neighbourhood_Mitte                 -0.971088         0.971088\nhost_neighbourhood_Wedding               -0.847567         0.847567\nhost_neighbourhood_Kreuzberg             -0.800429         0.800429\navailability_60                          -0.786550         0.786550\nhost_neighbourhood_Friedrichshain        -0.785922         0.785922\nneighbourhood_cleansed_Drakestr.          0.749830         0.749830\nzipcode_12555                             0.743342         0.743342\nstate_Berlin                              0.687761         0.687761\nzipcode_13127                            -0.685803         0.685803\nproperty_type_Loft                        0.676252         0.676252",
      "text/html": "<div>\n<style scoped>\n    .dataframe tbody tr th:only-of-type {\n        vertical-align: middle;\n    }\n\n    .dataframe tbody tr th {\n        vertical-align: top;\n    }\n\n    .dataframe thead th {\n        text-align: right;\n    }\n</style>\n<table border=\"1\" class=\"dataframe\">\n  <thead>\n    <tr style=\"text-align: right;\">\n      <th></th>\n      <th>coefficient</th>\n      <th>coefficient_abs</th>\n    </tr>\n  </thead>\n  <tbody>\n    <tr>\n      <th>host_location_Berlin, Berlin, Germany</th>\n      <td>2.335167</td>\n      <td>2.335167</td>\n    </tr>\n    <tr>\n      <th>zipcode_12524</th>\n      <td>2.116516</td>\n      <td>2.116516</td>\n    </tr>\n    <tr>\n      <th>latitude</th>\n      <td>1.968155</td>\n      <td>1.968155</td>\n    </tr>\n    <tr>\n      <th>neighbourhood_cleansed_Altglienicke</th>\n      <td>-1.796077</td>\n      <td>1.796077</td>\n    </tr>\n    <tr>\n      <th>host_neighbourhood_nan</th>\n      <td>-1.440220</td>\n      <td>1.440220</td>\n    </tr>\n    <tr>\n      <th>host_location_DE</th>\n      <td>1.320714</td>\n      <td>1.320714</td>\n    </tr>\n    <tr>\n      <th>neighbourhood_cleansed_Bohnsdorf</th>\n      <td>-1.236629</td>\n      <td>1.236629</td>\n    </tr>\n    <tr>\n      <th>host_neighbourhood_Neukölln</th>\n      <td>-1.073800</td>\n      <td>1.073800</td>\n    </tr>\n    <tr>\n      <th>property_type_Apartment</th>\n      <td>1.055109</td>\n      <td>1.055109</td>\n    </tr>\n    <tr>\n      <th>host_neighbourhood_Prenzlauer Berg</th>\n      <td>-1.021524</td>\n      <td>1.021524</td>\n    </tr>\n    <tr>\n      <th>host_neighbourhood_Mitte</th>\n      <td>-0.971088</td>\n      <td>0.971088</td>\n    </tr>\n    <tr>\n      <th>host_neighbourhood_Wedding</th>\n      <td>-0.847567</td>\n      <td>0.847567</td>\n    </tr>\n    <tr>\n      <th>host_neighbourhood_Kreuzberg</th>\n      <td>-0.800429</td>\n      <td>0.800429</td>\n    </tr>\n    <tr>\n      <th>availability_60</th>\n      <td>-0.786550</td>\n      <td>0.786550</td>\n    </tr>\n    <tr>\n      <th>host_neighbourhood_Friedrichshain</th>\n      <td>-0.785922</td>\n      <td>0.785922</td>\n    </tr>\n    <tr>\n      <th>neighbourhood_cleansed_Drakestr.</th>\n      <td>0.749830</td>\n      <td>0.749830</td>\n    </tr>\n    <tr>\n      <th>zipcode_12555</th>\n      <td>0.743342</td>\n      <td>0.743342</td>\n    </tr>\n    <tr>\n      <th>state_Berlin</th>\n      <td>0.687761</td>\n      <td>0.687761</td>\n    </tr>\n    <tr>\n      <th>zipcode_13127</th>\n      <td>-0.685803</td>\n      <td>0.685803</td>\n    </tr>\n    <tr>\n      <th>property_type_Loft</th>\n      <td>0.676252</td>\n      <td>0.676252</td>\n    </tr>\n  </tbody>\n</table>\n</div>"
     },
     "execution_count": 71,
     "metadata": {},
     "output_type": "execute_result"
    }
   ],
   "source": [
    "ber_coeff_vals = pd.DataFrame(ber_pipeline.steps[-1][-1].coef_, index=X.columns, columns=['coefficient'])\n",
    "ber_coeff_vals['coefficient_abs']=np.abs(ber_coeff_vals['coefficient'])\n",
    "ber_coeff_vals.sort_values(by='coefficient_abs', ascending=False).head(20)"
   ]
  },
  {
   "cell_type": "code",
   "execution_count": 72,
   "metadata": {},
   "outputs": [
    {
     "data": {
      "text/plain": "Tempelhofer Vorstadt        1325\nFrankfurter Allee Süd FK    1282\nAlexanderplatz              1091\nReuterstraße                1002\nRixdorf                      880\n                            ... \nAllende-Viertel                3\nNeu-Hohenschönhausen Süd       2\nRoxhill                        2\nMV 2                           1\nHellersdorf-Ost                1\nName: neighbourhood_cleansed, Length: 247, dtype: int64"
     },
     "execution_count": 72,
     "metadata": {},
     "output_type": "execute_result"
    }
   ],
   "source": [
    "listings['neighbourhood_cleansed'].value_counts()"
   ]
  }
 ],
 "metadata": {
  "kernelspec": {
   "display_name": "Python 3",
   "language": "python",
   "name": "python3"
  },
  "language_info": {
   "codemirror_mode": {
    "name": "ipython",
    "version": 3
   },
   "file_extension": ".py",
   "mimetype": "text/x-python",
   "name": "python",
   "nbconvert_exporter": "python",
   "pygments_lexer": "ipython3",
   "version": "3.7.0"
  }
 },
 "nbformat": 4,
 "nbformat_minor": 1
}